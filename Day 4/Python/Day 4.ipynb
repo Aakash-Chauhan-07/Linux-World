{
 "cells": [
  {
   "cell_type": "markdown",
   "metadata": {},
   "source": [
    "# Day 4\n",
    "**Date - May 20, 2024**"
   ]
  },
  {
   "cell_type": "markdown",
   "metadata": {},
   "source": [
    "numpy: we can perform operations row wise and column wise, it is python library.\n",
    "\n",
    "list: for similar kind data we use list, in list we can perform operations and can do changes CRUD like operations.\n",
    "\n",
    "tuple: it is also a kind of data, but we cannot do changes or perform actions it’s read only.\n",
    "\n",
    "we are developers so we need all kind of variables, like list, tuple.\n",
    "if we don’t need to change the data then we use tuple\n",
    "list[]\n",
    "tuple()\n",
    "Functions for list.\n",
    "\n",
    "list.append()\n",
    "list.insert()\n",
    "list………….. (in jupyter notebook type double tab to get suggestion for list of function)\n",
    "Numpy:\n",
    "\n",
    "We can perform row and column wise operations.\n",
    "\n",
    "    db.shape → will tell the data shape like 1D, 2D.\n",
    "    1D: only rows, 2D: multiple rows\n",
    "    Vector Data: [1, 2, 3, 4, 5]\n",
    "    out[]: (5, )\n",
    "    1D → [[1], [2], [3], [4], [5]]\n",
    "    lwStudents.shape\n",
    "    out[]: (5, 1)\n",
    "    db.reshape(-1, 1)\n",
    "    out[]: array([[1], [2], [3], [4], [5]])\n",
    "    //Chatgpt has billion dimension data.\n",
    "\n",
    "    mydb = numpy.array([1,2,3,4,5,6])\n",
    "    mydb.shape\n",
    "    (10, )\n",
    "    // we can change the data like distributing withing columns.\n",
    "\n",
    "    mydb.reshape(3,2)\n",
    "    out[]: array([[1,2], [3,4], [5,6]])\n",
    "    mydb1 = ([[1,2], [3,4], [5,6]])\n",
    "    mydkb1.reshape(12, 1)\n",
    "    out[]: array(([1,2,3,4,5,6])\n",
    "    // we can aslo perform multiple rows and columns by reshape function.\n",
    "    mydb.reshape(-1, 1) → to set the data.\n",
    "— — — — — — — — — — — — — — — — — — — — — — — — — — — — — — — — — — — — — —\n",
    "\n",
    "Image processing in python:\n",
    "To click photo by python opencv-python module, it can be import by import cv2\n",
    "\n",
    "    cap = cv2.VideoCapture(0)\n",
    "    status, photo = cap.read() (status to know the photo is clicked or not, then phot to save photo)\n",
    "    cv2.imwrite(“vimal.png”, photo) ( to give the path to save the photo )\n",
    "    cv2.imshow(“my photo”, photo)\n",
    "    cv2.waitKey(5000) ( to enter time)\n",
    "    cv2.destroyAllWindows()\n",
    "// run the above three commands at once\n"
   ]
  },
  {
   "cell_type": "code",
   "execution_count": 1,
   "metadata": {},
   "outputs": [],
   "source": [
    "import cv2"
   ]
  },
  {
   "cell_type": "code",
   "execution_count": 2,
   "metadata": {},
   "outputs": [],
   "source": [
    "cap = cv2.VideoCapture(0)"
   ]
  },
  {
   "cell_type": "code",
   "execution_count": 3,
   "metadata": {},
   "outputs": [],
   "source": [
    "status, photo = cap.read()"
   ]
  },
  {
   "cell_type": "code",
   "execution_count": 5,
   "metadata": {},
   "outputs": [
    {
     "data": {
      "text/plain": [
       "True"
      ]
     },
     "execution_count": 5,
     "metadata": {},
     "output_type": "execute_result"
    }
   ],
   "source": [
    "cv2.imwrite(\"photo.png\", photo)"
   ]
  },
  {
   "cell_type": "code",
   "execution_count": null,
   "metadata": {},
   "outputs": [],
   "source": []
  }
 ],
 "metadata": {
  "kernelspec": {
   "display_name": "Python 3",
   "language": "python",
   "name": "python3"
  },
  "language_info": {
   "codemirror_mode": {
    "name": "ipython",
    "version": 3
   },
   "file_extension": ".py",
   "mimetype": "text/x-python",
   "name": "python",
   "nbconvert_exporter": "python",
   "pygments_lexer": "ipython3",
   "version": "3.12.3"
  }
 },
 "nbformat": 4,
 "nbformat_minor": 2
}
