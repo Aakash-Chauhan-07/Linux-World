{
 "cells": [
  {
   "cell_type": "markdown",
   "metadata": {},
   "source": [
    "# **Summer Task - 1** \n",
    "**Date - May 19, 2024**"
   ]
  },
  {
   "cell_type": "markdown",
   "metadata": {},
   "source": [
    "__Task - 1:__\n",
    "\n",
    "    Create a program in python \n",
    "        Create inquiry form to take input \n",
    "            - Name\n",
    "            - Contact no\n",
    "            - Mail id\n",
    "            - Query  "
   ]
  },
  {
   "cell_type": "code",
   "execution_count": 1,
   "metadata": {},
   "outputs": [
    {
     "name": "stdout",
     "output_type": "stream",
     "text": [
      "Your name is:  Aakash Chauhan \n",
      " Your Contact number is:  1234567890 \n",
      " Your email address is:  aakashchauhan@gmail.com \n",
      " Your query is:  Nothing, Just chill\n"
     ]
    }
   ],
   "source": [
    "# Inquiry form\n",
    "\n",
    "name = input(\"Enter your name: \")\n",
    "contact = input(\"Enter your contact number: \")\n",
    "mail = input(\"Enter your E-mail address: \")\n",
    "query = input(\"Enter your query: \")\n",
    "\n",
    "print(\"Your name is: \", name,\n",
    "    \"\\n\", \n",
    "    \"Your Contact number is: \", contact,\n",
    "    \"\\n\",\n",
    "    \"Your email address is: \", mail,\n",
    "    \"\\n\",\n",
    "    \"Your query is: \", query)"
   ]
  },
  {
   "cell_type": "markdown",
   "metadata": {},
   "source": [
    "__Task - 2:__\n",
    "    \n",
    "    Connect to 5 people nearby, ask their personal \n",
    "    details like\n",
    "        - Name\n",
    "        - City\n",
    "        - College name\n",
    "        - Email id\n",
    "        - Insta profile\n",
    "\n",
    "    and store the entire info in data structure \"dictionary\" \n",
    "    with variable name of \"dictionary\" is \"lwdb\"\n",
    "    and then convert same dictionary into pandas data frame with \n",
    "    variable name of \"lwdbfinal\""
   ]
  },
  {
   "cell_type": "code",
   "execution_count": 6,
   "metadata": {},
   "outputs": [
    {
     "name": "stdout",
     "output_type": "stream",
     "text": [
      "<class 'dict'>\n"
     ]
    },
    {
     "data": {
      "text/html": [
       "<div>\n",
       "<style scoped>\n",
       "    .dataframe tbody tr th:only-of-type {\n",
       "        vertical-align: middle;\n",
       "    }\n",
       "\n",
       "    .dataframe tbody tr th {\n",
       "        vertical-align: top;\n",
       "    }\n",
       "\n",
       "    .dataframe thead th {\n",
       "        text-align: right;\n",
       "    }\n",
       "</style>\n",
       "<table border=\"1\" class=\"dataframe\">\n",
       "  <thead>\n",
       "    <tr style=\"text-align: right;\">\n",
       "      <th></th>\n",
       "      <th>Name</th>\n",
       "      <th>City</th>\n",
       "      <th>College_Name</th>\n",
       "      <th>Email</th>\n",
       "      <th>Insta_Profile</th>\n",
       "    </tr>\n",
       "  </thead>\n",
       "  <tbody>\n",
       "    <tr>\n",
       "      <th>0</th>\n",
       "      <td>Aakash</td>\n",
       "      <td>Jaipur</td>\n",
       "      <td>Poornima University</td>\n",
       "      <td>aakash@gmail.com</td>\n",
       "      <td>aakash_07</td>\n",
       "    </tr>\n",
       "    <tr>\n",
       "      <th>1</th>\n",
       "      <td>Sun</td>\n",
       "      <td>Ajmer</td>\n",
       "      <td>Manipal University</td>\n",
       "      <td>sun@gmail.com</td>\n",
       "      <td>sun_@star</td>\n",
       "    </tr>\n",
       "    <tr>\n",
       "      <th>2</th>\n",
       "      <td>Moon</td>\n",
       "      <td>Jaipur</td>\n",
       "      <td>JECRC University</td>\n",
       "      <td>moon@gmail.com</td>\n",
       "      <td>moon_@satellite</td>\n",
       "    </tr>\n",
       "    <tr>\n",
       "      <th>3</th>\n",
       "      <td>Earth</td>\n",
       "      <td>Delhi</td>\n",
       "      <td>IIT Delhi</td>\n",
       "      <td>earth@gmail.com</td>\n",
       "      <td>earth_@planet</td>\n",
       "    </tr>\n",
       "    <tr>\n",
       "      <th>4</th>\n",
       "      <td>Mars</td>\n",
       "      <td>Jaipur</td>\n",
       "      <td>Poornima University</td>\n",
       "      <td>mars@gmail.com</td>\n",
       "      <td>mars_@planet</td>\n",
       "    </tr>\n",
       "  </tbody>\n",
       "</table>\n",
       "</div>"
      ],
      "text/plain": [
       "     Name    City         College_Name             Email    Insta_Profile\n",
       "0  Aakash  Jaipur  Poornima University  aakash@gmail.com        aakash_07\n",
       "1     Sun   Ajmer   Manipal University     sun@gmail.com        sun_@star\n",
       "2    Moon  Jaipur     JECRC University    moon@gmail.com  moon_@satellite\n",
       "3   Earth   Delhi            IIT Delhi   earth@gmail.com    earth_@planet\n",
       "4    Mars  Jaipur  Poornima University    mars@gmail.com     mars_@planet"
      ]
     },
     "execution_count": 6,
     "metadata": {},
     "output_type": "execute_result"
    }
   ],
   "source": [
    "import pandas as pd\n",
    "\n",
    "lwdb = {\n",
    "    'Name' : ['Aakash', 'Sun', 'Moon', 'Earth', 'Mars'],\n",
    "    'City' : ['Jaipur', 'Ajmer', 'Jaipur', 'Delhi', 'Jaipur'],\n",
    "    'College_Name' : ['Poornima University', 'Manipal University', 'JECRC University', 'IIT Delhi', 'Poornima University'],\n",
    "    'Email' : ['aakash@gmail.com', 'sun@gmail.com', 'moon@gmail.com', 'earth@gmail.com', 'mars@gmail.com'],\n",
    "    'Insta_Profile' : ['aakash_07', 'sun_@star', 'moon_@satellite', 'earth_@planet', 'mars_@planet'] \n",
    "}\n",
    "\n",
    "print(type(lwdb))\n",
    "\n",
    "lwdbfinal = pd.DataFrame(lwdb)\n",
    "lwdbfinal"
   ]
  },
  {
   "cell_type": "markdown",
   "metadata": {},
   "source": [
    "__Task - 3:__\n",
    "    \n",
    "    Print only all \"name\" and \"email\" from variable \"lwdbfinal\" in one statement\n",
    "    Print insta profile and name  of only record number 2 to 4 only\n"
   ]
  },
  {
   "cell_type": "code",
   "execution_count": 9,
   "metadata": {},
   "outputs": [
    {
     "data": {
      "text/html": [
       "<div>\n",
       "<style scoped>\n",
       "    .dataframe tbody tr th:only-of-type {\n",
       "        vertical-align: middle;\n",
       "    }\n",
       "\n",
       "    .dataframe tbody tr th {\n",
       "        vertical-align: top;\n",
       "    }\n",
       "\n",
       "    .dataframe thead th {\n",
       "        text-align: right;\n",
       "    }\n",
       "</style>\n",
       "<table border=\"1\" class=\"dataframe\">\n",
       "  <thead>\n",
       "    <tr style=\"text-align: right;\">\n",
       "      <th></th>\n",
       "      <th>Name</th>\n",
       "      <th>Email</th>\n",
       "    </tr>\n",
       "  </thead>\n",
       "  <tbody>\n",
       "    <tr>\n",
       "      <th>0</th>\n",
       "      <td>Aakash</td>\n",
       "      <td>aakash@gmail.com</td>\n",
       "    </tr>\n",
       "    <tr>\n",
       "      <th>1</th>\n",
       "      <td>Sun</td>\n",
       "      <td>sun@gmail.com</td>\n",
       "    </tr>\n",
       "    <tr>\n",
       "      <th>2</th>\n",
       "      <td>Moon</td>\n",
       "      <td>moon@gmail.com</td>\n",
       "    </tr>\n",
       "    <tr>\n",
       "      <th>3</th>\n",
       "      <td>Earth</td>\n",
       "      <td>earth@gmail.com</td>\n",
       "    </tr>\n",
       "    <tr>\n",
       "      <th>4</th>\n",
       "      <td>Mars</td>\n",
       "      <td>mars@gmail.com</td>\n",
       "    </tr>\n",
       "  </tbody>\n",
       "</table>\n",
       "</div>"
      ],
      "text/plain": [
       "     Name             Email\n",
       "0  Aakash  aakash@gmail.com\n",
       "1     Sun     sun@gmail.com\n",
       "2    Moon    moon@gmail.com\n",
       "3   Earth   earth@gmail.com\n",
       "4    Mars    mars@gmail.com"
      ]
     },
     "execution_count": 9,
     "metadata": {},
     "output_type": "execute_result"
    }
   ],
   "source": [
    "lwdbfinal[['Name', 'Email']]"
   ]
  },
  {
   "cell_type": "code",
   "execution_count": 15,
   "metadata": {},
   "outputs": [
    {
     "data": {
      "text/html": [
       "<div>\n",
       "<style scoped>\n",
       "    .dataframe tbody tr th:only-of-type {\n",
       "        vertical-align: middle;\n",
       "    }\n",
       "\n",
       "    .dataframe tbody tr th {\n",
       "        vertical-align: top;\n",
       "    }\n",
       "\n",
       "    .dataframe thead th {\n",
       "        text-align: right;\n",
       "    }\n",
       "</style>\n",
       "<table border=\"1\" class=\"dataframe\">\n",
       "  <thead>\n",
       "    <tr style=\"text-align: right;\">\n",
       "      <th></th>\n",
       "      <th>Name</th>\n",
       "      <th>Insta_Profile</th>\n",
       "    </tr>\n",
       "  </thead>\n",
       "  <tbody>\n",
       "    <tr>\n",
       "      <th>1</th>\n",
       "      <td>Sun</td>\n",
       "      <td>sun_@star</td>\n",
       "    </tr>\n",
       "    <tr>\n",
       "      <th>2</th>\n",
       "      <td>Moon</td>\n",
       "      <td>moon_@satellite</td>\n",
       "    </tr>\n",
       "    <tr>\n",
       "      <th>3</th>\n",
       "      <td>Earth</td>\n",
       "      <td>earth_@planet</td>\n",
       "    </tr>\n",
       "  </tbody>\n",
       "</table>\n",
       "</div>"
      ],
      "text/plain": [
       "    Name    Insta_Profile\n",
       "1    Sun        sun_@star\n",
       "2   Moon  moon_@satellite\n",
       "3  Earth    earth_@planet"
      ]
     },
     "execution_count": 15,
     "metadata": {},
     "output_type": "execute_result"
    }
   ],
   "source": [
    "# Printing Name and Insta Profiles of only record number 2 to 4\n",
    "# here indexing starts from 0 so we extract 1 till 4 index (Which excludes 4th index).\n",
    "# So, it prints desired records\n",
    " \n",
    "lwdbfinal.iloc[1:4, [0, 4]] "
   ]
  },
  {
   "cell_type": "markdown",
   "metadata": {},
   "source": [
    "__Task - 4:__\n",
    "\n",
    "    Create python program --> menu.py so that\n",
    "    When anyone run\n",
    "    We present with 4 options, like\n",
    "    Press 1: to start notepad\n",
    "    Press 2: to start chrome or firefox\n",
    "    Press 3: to start vlc player or any other player\n",
    "    Press 4: if ask input which url to open in browser, and when we give url, it open that website in browser"
   ]
  },
  {
   "cell_type": "markdown",
   "metadata": {},
   "source": [
    "**Menu.py is stored in the same directory where this notebook is stored.**"
   ]
  },
  {
   "cell_type": "markdown",
   "metadata": {},
   "source": [
    "__Task - 5:__\n",
    "\n",
    "    In task - 2, you got some data, now you have create program, that help you to search entire information about particular person by asking their name means “Search by Name”\n"
   ]
  },
  {
   "cell_type": "code",
   "execution_count": 30,
   "metadata": {},
   "outputs": [
    {
     "data": {
      "text/html": [
       "<div>\n",
       "<style scoped>\n",
       "    .dataframe tbody tr th:only-of-type {\n",
       "        vertical-align: middle;\n",
       "    }\n",
       "\n",
       "    .dataframe tbody tr th {\n",
       "        vertical-align: top;\n",
       "    }\n",
       "\n",
       "    .dataframe thead th {\n",
       "        text-align: right;\n",
       "    }\n",
       "</style>\n",
       "<table border=\"1\" class=\"dataframe\">\n",
       "  <thead>\n",
       "    <tr style=\"text-align: right;\">\n",
       "      <th></th>\n",
       "      <th>Name</th>\n",
       "      <th>City</th>\n",
       "      <th>College_Name</th>\n",
       "      <th>Email</th>\n",
       "      <th>Insta_Profile</th>\n",
       "    </tr>\n",
       "  </thead>\n",
       "  <tbody>\n",
       "    <tr>\n",
       "      <th>0</th>\n",
       "      <td>Aakash</td>\n",
       "      <td>Jaipur</td>\n",
       "      <td>Poornima University</td>\n",
       "      <td>aakash@gmail.com</td>\n",
       "      <td>aakash_07</td>\n",
       "    </tr>\n",
       "  </tbody>\n",
       "</table>\n",
       "</div>"
      ],
      "text/plain": [
       "     Name    City         College_Name             Email Insta_Profile\n",
       "0  Aakash  Jaipur  Poornima University  aakash@gmail.com     aakash_07"
      ]
     },
     "execution_count": 30,
     "metadata": {},
     "output_type": "execute_result"
    }
   ],
   "source": [
    "# Case where Record exist\n",
    "\n",
    "name = input(\"Enter the Name of the person whose details you want: \")\n",
    "lwdbfinal[lwdbfinal['Name'] == name]"
   ]
  },
  {
   "cell_type": "code",
   "execution_count": 31,
   "metadata": {},
   "outputs": [
    {
     "data": {
      "text/html": [
       "<div>\n",
       "<style scoped>\n",
       "    .dataframe tbody tr th:only-of-type {\n",
       "        vertical-align: middle;\n",
       "    }\n",
       "\n",
       "    .dataframe tbody tr th {\n",
       "        vertical-align: top;\n",
       "    }\n",
       "\n",
       "    .dataframe thead th {\n",
       "        text-align: right;\n",
       "    }\n",
       "</style>\n",
       "<table border=\"1\" class=\"dataframe\">\n",
       "  <thead>\n",
       "    <tr style=\"text-align: right;\">\n",
       "      <th></th>\n",
       "      <th>Name</th>\n",
       "      <th>City</th>\n",
       "      <th>College_Name</th>\n",
       "      <th>Email</th>\n",
       "      <th>Insta_Profile</th>\n",
       "    </tr>\n",
       "  </thead>\n",
       "  <tbody>\n",
       "  </tbody>\n",
       "</table>\n",
       "</div>"
      ],
      "text/plain": [
       "Empty DataFrame\n",
       "Columns: [Name, City, College_Name, Email, Insta_Profile]\n",
       "Index: []"
      ]
     },
     "execution_count": 31,
     "metadata": {},
     "output_type": "execute_result"
    }
   ],
   "source": [
    "# Case where Record doesn't exist\n",
    "\n",
    "name = input(\"Enter the Name of the person whose details you want: \")\n",
    "lwdbfinal[lwdbfinal['Name'] == name]"
   ]
  },
  {
   "cell_type": "markdown",
   "metadata": {},
   "source": [
    "__Task - 6:__\n",
    "\n",
    "    Run Shell or linux Commands in python"
   ]
  },
  {
   "cell_type": "code",
   "execution_count": 6,
   "metadata": {},
   "outputs": [
    {
     "name": "stdout",
     "output_type": "stream",
     "text": [
      "Output: \n",
      " Volume in drive C has no label.\n",
      " Volume Serial Number is 6812-6576\n",
      "\n",
      " Directory of c:\\College\\Linux World\\Summer Tasks - 1\\Python\n",
      "\n",
      "05/25/2024  01:38 PM    <DIR>          .\n",
      "05/25/2024  01:38 PM    <DIR>          ..\n",
      "05/20/2024  01:30 AM               799 Menu.py\n",
      "05/20/2024  12:17 AM             1,302 Task List.md\n",
      "05/25/2024  02:01 PM            15,287 Task.ipynb\n",
      "               3 File(s)         17,388 bytes\n",
      "               2 Dir(s)  102,622,089,216 bytes free\n",
      "\n"
     ]
    }
   ],
   "source": [
    "# Linux Commands will only run on linux OS\n",
    "# Utilize same code for linux system to run commands via python\n",
    "\n",
    "import subprocess\n",
    "\n",
    "cmd = input(\"Enter the shell command: \")\n",
    "\n",
    "result = subprocess.run(cmd, shell=True, capture_output=True, text=True)\n",
    "\n",
    "print(\"Output: \")\n",
    "print(result.stdout)"
   ]
  },
  {
   "cell_type": "markdown",
   "metadata": {},
   "source": [
    "__Task - 6__:\n",
    "\n",
    "    Sending Whatsapp message using python"
   ]
  },
  {
   "cell_type": "code",
   "execution_count": 1,
   "metadata": {},
   "outputs": [],
   "source": [
    "import pyautogui as py\n",
    "import webbrowser as wb\n",
    "import time "
   ]
  },
  {
   "cell_type": "code",
   "execution_count": 2,
   "metadata": {},
   "outputs": [],
   "source": [
    "def send_whatsapp(mob, message):\n",
    "    # Open WhatsApp Web\n",
    "    wb.open(f\"https://web.whatsapp.com/send?phone={mob}\")\n",
    "    time.sleep(20)  # Waiting for opening of WhatsApp (adjust as needed)\n",
    "\n",
    "    # Typing and sending the message\n",
    "    time.sleep(2)\n",
    "    py.typewrite(message)\n",
    "    py.press(\"enter\")\n",
    "\n",
    "mobile_number = input(\"Enter the mobile number to which you want to send the message: \")\n",
    "message = input(\"Type the message: \")\n",
    "\n",
    "send_whatsapp(mobile_number, message)"
   ]
  },
  {
   "cell_type": "markdown",
   "metadata": {},
   "source": [
    "__Task - 7:__\n",
    "\n",
    "    Sending Email using python"
   ]
  },
  {
   "cell_type": "code",
   "execution_count": 4,
   "metadata": {},
   "outputs": [
    {
     "name": "stdout",
     "output_type": "stream",
     "text": [
      "Email sent successfully.\n"
     ]
    }
   ],
   "source": [
    "import smtplib\n",
    "\n",
    "def send_email(sender_email, password, receiver_email, subject, body):\n",
    "    message = f\"Subject: {subject}\\n\\n{body}\"\n",
    "\n",
    "    with smtplib.SMTP('smtp.office365.com', 587) as server:\n",
    "        server.starttls()\n",
    "        server.login(sender_email, password)\n",
    "        server.sendmail(sender_email, receiver_email, message)\n",
    "\n",
    "    print(\"Email sent successfully.\")\n",
    "\n",
    "# Example Usage:\n",
    "sender_email = 'chequekar@outlook.com' # Test mail (Use Outlook mail to send the emails)\n",
    "password = 'Asdfg54321$'    \n",
    "receiver_email = 'joshipriya8985@gmail.com'\n",
    "subject = 'Greetings'\n",
    "body = 'Test message from python by aakash'\n",
    "\n",
    "send_email(sender_email, password, receiver_email, subject, body)"
   ]
  },
  {
   "cell_type": "markdown",
   "metadata": {},
   "source": [
    "__Task - 8:__\n",
    "\n",
    "    Sending SMS through python\n",
    "\n",
    "__To Make it work you must be logged in Google messages for web.__"
   ]
  },
  {
   "cell_type": "code",
   "execution_count": 3,
   "metadata": {},
   "outputs": [
    {
     "name": "stdout",
     "output_type": "stream",
     "text": [
      "SMS is delivered Successfully\n"
     ]
    }
   ],
   "source": [
    "# The sleep timing can be changed accordingly with processing speed of computer and internet connection\n",
    "\n",
    "import webbrowser as wb\n",
    "import pyautogui as py\n",
    "import time \n",
    "\n",
    "\"\"\"\n",
    "Alert Important:\n",
    "\n",
    "To Make it work, you must be logged in Google messages for web.\n",
    "\"\"\"\n",
    "\n",
    "def send_sms(phone, msg):\n",
    "    wb.open(\"https://messages.google.com/web/conversations/new\")\n",
    "    time.sleep(15) # Change the time accordingly here we given time for loading\n",
    "    py.typewrite(phone)\n",
    "    time.sleep(2) # time is in seconds\n",
    "    py.press('enter')\n",
    "    time.sleep(7) \n",
    "    py.typewrite(msg)\n",
    "    time.sleep(2)\n",
    "    py.press('enter')\n",
    "\n",
    "phone = input(\"Enter the Phone number or (Persons name if exist in contact list): \")\n",
    "msg = input(\"Type the message you want to send here: \")\n",
    "\n",
    "send_sms(phone, msg)\n",
    "print(\"SMS is delivered Successfully\")"
   ]
  },
  {
   "cell_type": "markdown",
   "metadata": {},
   "source": [
    "__Task - 9:__\n",
    "\n",
    "    Search a String using python which will get the results in google."
   ]
  },
  {
   "cell_type": "code",
   "execution_count": 5,
   "metadata": {},
   "outputs": [
    {
     "data": {
      "text/plain": [
       "['https://in.linkedin.com/in/vimaldaga',\n",
       " 'https://www.instagram.com/vimaldaga.india/?hl=en',\n",
       " 'https://www.hash13.com/fsd/',\n",
       " 'https://thecreator.one/',\n",
       " 'https://www.lwindia.com/',\n",
       " 'https://www.hash13.com/linux-training/']"
      ]
     },
     "execution_count": 5,
     "metadata": {},
     "output_type": "execute_result"
    }
   ],
   "source": [
    "import googlesearch\n",
    "\n",
    "def scrape_google(query, num_results=5):\n",
    "    search_results = []\n",
    "    for result in googlesearch.search(query, num_results=num_results):\n",
    "        search_results.append(result)\n",
    "    return search_results\n",
    "\n",
    "scrape_google(query = \"Vimal Daga\")"
   ]
  },
  {
   "cell_type": "markdown",
   "metadata": {},
   "source": [
    "__Task - 10:__\n",
    "\n",
    "    Find the longitude and location name using python"
   ]
  },
  {
   "cell_type": "code",
   "execution_count": 5,
   "metadata": {},
   "outputs": [
    {
     "name": "stdout",
     "output_type": "stream",
     "text": [
      "Your coordinates based on IP address are: [26.9196, 75.7878]\n"
     ]
    }
   ],
   "source": [
    "import geocoder\n",
    "\n",
    "def get_coordinates_by_ip():\n",
    "    g = geocoder.ip('me')\n",
    "    return g.latlng\n",
    "\n",
    "coordinates = get_coordinates_by_ip()\n",
    "print(f\"Your coordinates based on IP address are: {coordinates}\")"
   ]
  },
  {
   "cell_type": "markdown",
   "metadata": {},
   "source": [
    "__Task - 11:__\n",
    "\n",
    "    Speak through the speaker using python."
   ]
  },
  {
   "cell_type": "code",
   "execution_count": 6,
   "metadata": {},
   "outputs": [
    {
     "name": "stdout",
     "output_type": "stream",
     "text": [
      "You said:  Hi, Priya Joshi Ma'am. This is test code by python\n"
     ]
    }
   ],
   "source": [
    "import pyttsx3\n",
    "\n",
    "def speak(text):\n",
    "    engine = pyttsx3.init()\n",
    "    voices = engine.getProperty('voices')\n",
    "    \n",
    "    # Select the first voice available\n",
    "    engine.setProperty('voice', voices[0].id)\n",
    "    \n",
    "    # Set speech rate and volume\n",
    "    engine.setProperty('rate', 140)\n",
    "    engine.setProperty('volume', 1.0)\n",
    "    \n",
    "    # Speak the text\n",
    "    engine.say(text)\n",
    "    engine.runAndWait()\n",
    "\n",
    "text = input(\"Type here what you want me to speak: \")\n",
    "\n",
    "print(\"You said: \", text)\n",
    "speak(text)"
   ]
  },
  {
   "cell_type": "markdown",
   "metadata": {},
   "source": [
    "__Task - 12:__\n",
    "\n",
    "    Convert text into Audio and whatsapp or email the same audio."
   ]
  },
  {
   "cell_type": "code",
   "execution_count": 1,
   "metadata": {},
   "outputs": [],
   "source": [
    "import pyttsx3\n",
    "import pyautogui as py \n",
    "import webbrowser as wb\n",
    "import time "
   ]
  },
  {
   "cell_type": "code",
   "execution_count": 3,
   "metadata": {},
   "outputs": [
    {
     "name": "stdout",
     "output_type": "stream",
     "text": [
      "File Delivered Successfully\n"
     ]
    }
   ],
   "source": [
    "# This code can be used to send any file using exact path\n",
    "\n",
    "def text_to_audio(text, filename):\n",
    "    engine = pyttsx3.init()\n",
    "    engine.save_to_file(text, filename) \n",
    "    engine.runAndWait()\n",
    "\n",
    "def send_file_on_whatsapp(mobile, path):\n",
    "    wb.open(f\"https://web.whatsapp.com/send?phone={mobile}\")\n",
    "    time.sleep(20)\n",
    "\n",
    "    attach = py.locateOnScreen('attach.png')\n",
    "    time.sleep(3)\n",
    "    py.click(attach)\n",
    "    py.press('down')\n",
    "    time.sleep(1)\n",
    "    py.press('enter')\n",
    "    \n",
    "    time.sleep(5)\n",
    "    py.typewrite(path)\n",
    "    time.sleep(1)\n",
    "    py.press('enter')\n",
    "    time.sleep(3)\n",
    "    py.press('enter')\n",
    "\n",
    "# Convert text to audio and save it\n",
    "text = \"Hello, this is a sample text to convert into audio.\"\n",
    "filename = \"output.mp3\"\n",
    "text_to_audio(text, filename)\n",
    "\n",
    "# Send the audio file via WhatsApp\n",
    "phone_number = input(\"Enter the mobile number to which you want to send the file: \") \n",
    "send_file_on_whatsapp(phone_number, filename)\n",
    "print(\"File Delivered Successfully\")"
   ]
  },
  {
   "cell_type": "markdown",
   "metadata": {},
   "source": [
    "__Task - 13:__\n",
    "\n",
    "    Increase and decrease the volume of your system using python."
   ]
  },
  {
   "cell_type": "code",
   "execution_count": 7,
   "metadata": {},
   "outputs": [
    {
     "name": "stdout",
     "output_type": "stream",
     "text": [
      "Current volume: 100%\n",
      "Volume set to 70%\n"
     ]
    }
   ],
   "source": [
    "from pycaw.pycaw import AudioUtilities, IAudioEndpointVolume\n",
    "from ctypes import cast, POINTER\n",
    "from comtypes import CLSCTX_ALL\n",
    "\n",
    "def get_default_audio_device():\n",
    "    \"\"\"Get the default audio device\"\"\"\n",
    "    devices = AudioUtilities.GetSpeakers()\n",
    "    interface = devices.Activate(\n",
    "        IAudioEndpointVolume._iid_, CLSCTX_ALL, None)\n",
    "    return cast(interface, POINTER(IAudioEndpointVolume))\n",
    "\n",
    "def get_current_volume():\n",
    "    \"\"\"Get the current volume level as a percentage\"\"\"\n",
    "    volume = get_default_audio_device()\n",
    "    current_volume = volume.GetMasterVolumeLevelScalar()\n",
    "    return int(current_volume * 100)\n",
    "\n",
    "def set_volume(level):\n",
    "    \"\"\"Set the volume level (0 to 100)\"\"\"\n",
    "    volume = get_default_audio_device()\n",
    "    if 0 <= level <= 100:\n",
    "        volume.SetMasterVolumeLevelScalar(level / 100, None)\n",
    "        print(f\"Volume set to {level}%\")\n",
    "    else:\n",
    "        raise ValueError(\"Volume level must be between 0 and 100\")\n",
    "\n",
    "def main():\n",
    "    try:\n",
    "        current_volume = get_current_volume()\n",
    "        print(f\"Current volume: {current_volume}%\")\n",
    "        new_volume = int(input(\"Enter new volume level (0-100): \"))\n",
    "        set_volume(new_volume)\n",
    "    except ValueError as e:\n",
    "        print(e)\n",
    "    except Exception as e:\n",
    "        print(f\"An unexpected error occurred: {e}\")\n",
    "\n",
    "if __name__ == \"__main__\":\n",
    "    main()"
   ]
  },
  {
   "cell_type": "markdown",
   "metadata": {},
   "source": [
    "__Task - 14:__\n",
    "\n",
    "    Send bulk email using python"
   ]
  },
  {
   "cell_type": "code",
   "execution_count": 8,
   "metadata": {},
   "outputs": [
    {
     "name": "stdout",
     "output_type": "stream",
     "text": [
      "Email sent successfully.\n"
     ]
    }
   ],
   "source": [
    "import smtplib\n",
    "\n",
    "def send_email(sender_email, password, receiver_email, subject, body):\n",
    "    message = f\"Subject: {subject}\\n\\n{body}\"\n",
    "\n",
    "    with smtplib.SMTP('smtp.office365.com', 587) as server:\n",
    "        server.starttls()\n",
    "        server.login(sender_email, password)\n",
    "        for i in receiver_email:\n",
    "            server.sendmail(sender_email, i, message)\n",
    "\n",
    "    print(\"Email sent successfully.\")\n",
    "\n",
    "# Example Usage: \n",
    "sender_email = 'chequekar@outlook.com' # Test mail (Use Outlook mail to send the emails)\n",
    "password = 'Asdfg54321$'    \n",
    "receiver_email = ['marvelfan389@gmail.com', 'geofi.official@gmail.com']\n",
    "subject = 'Greetings'\n",
    "body = 'how are you'\n",
    "\n",
    "send_email(sender_email, password, receiver_email, subject, body)"
   ]
  },
  {
   "cell_type": "markdown",
   "metadata": {},
   "source": [
    "__Task - 15:__\n",
    "\n",
    "    Open any app using voice command"
   ]
  },
  {
   "cell_type": "code",
   "execution_count": null,
   "metadata": {},
   "outputs": [],
   "source": [
    "# There is an open_app.py file in the same directory \n",
    "# where this notebook is placed, run that to perform the\n",
    "# above described task"
   ]
  },
  {
   "cell_type": "code",
   "execution_count": null,
   "metadata": {},
   "outputs": [],
   "source": []
  }
 ],
 "metadata": {
  "kernelspec": {
   "display_name": "Python 3",
   "language": "python",
   "name": "python3"
  },
  "language_info": {
   "codemirror_mode": {
    "name": "ipython",
    "version": 3
   },
   "file_extension": ".py",
   "mimetype": "text/x-python",
   "name": "python",
   "nbconvert_exporter": "python",
   "pygments_lexer": "ipython3",
   "version": "3.12.3"
  }
 },
 "nbformat": 4,
 "nbformat_minor": 2
}
