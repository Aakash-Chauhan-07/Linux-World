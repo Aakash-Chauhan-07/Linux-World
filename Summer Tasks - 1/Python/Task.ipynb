{
 "cells": [
  {
   "cell_type": "markdown",
   "metadata": {},
   "source": [
    "# **Summer Task - 1** \n",
    "**Date - May 19, 2024**"
   ]
  },
  {
   "cell_type": "markdown",
   "metadata": {},
   "source": [
    "__Task - 1:__\n",
    "\n",
    "    Create a program in python \n",
    "        Create inquiry form to take input \n",
    "            - Name\n",
    "            - Contact no\n",
    "            - Mail id\n",
    "            - Query  "
   ]
  },
  {
   "cell_type": "code",
   "execution_count": 1,
   "metadata": {},
   "outputs": [
    {
     "name": "stdout",
     "output_type": "stream",
     "text": [
      "Your name is:  Aakash Chauhan \n",
      " Your Contact number is:  1234567890 \n",
      " Your email address is:  aakashchauhan@gmail.com \n",
      " Your query is:  Nothing, Just chill\n"
     ]
    }
   ],
   "source": [
    "# Inquiry form\n",
    "\n",
    "name = input(\"Enter your name: \")\n",
    "contact = input(\"Enter your contact number: \")\n",
    "mail = input(\"Enter your E-mail address: \")\n",
    "query = input(\"Enter your query: \")\n",
    "\n",
    "print(\"Your name is: \", name,\n",
    "    \"\\n\", \n",
    "    \"Your Contact number is: \", contact,\n",
    "    \"\\n\",\n",
    "    \"Your email address is: \", mail,\n",
    "    \"\\n\",\n",
    "    \"Your query is: \", query)"
   ]
  },
  {
   "cell_type": "markdown",
   "metadata": {},
   "source": [
    "__Task - 2:__\n",
    "    \n",
    "    Connect to 5 people nearby, ask their personal \n",
    "    details like\n",
    "        - Name\n",
    "        - City\n",
    "        - College name\n",
    "        - Email id\n",
    "        - Insta profile\n",
    "\n",
    "    and store the entire info in data structure \"dictionary\" \n",
    "    with variable name of \"dictionary\" is \"lwdb\"\n",
    "    and then convert same dictionary into pandas data frame with \n",
    "    variable name of \"lwdbfinal\""
   ]
  },
  {
   "cell_type": "code",
   "execution_count": 6,
   "metadata": {},
   "outputs": [
    {
     "name": "stdout",
     "output_type": "stream",
     "text": [
      "<class 'dict'>\n"
     ]
    },
    {
     "data": {
      "text/html": [
       "<div>\n",
       "<style scoped>\n",
       "    .dataframe tbody tr th:only-of-type {\n",
       "        vertical-align: middle;\n",
       "    }\n",
       "\n",
       "    .dataframe tbody tr th {\n",
       "        vertical-align: top;\n",
       "    }\n",
       "\n",
       "    .dataframe thead th {\n",
       "        text-align: right;\n",
       "    }\n",
       "</style>\n",
       "<table border=\"1\" class=\"dataframe\">\n",
       "  <thead>\n",
       "    <tr style=\"text-align: right;\">\n",
       "      <th></th>\n",
       "      <th>Name</th>\n",
       "      <th>City</th>\n",
       "      <th>College_Name</th>\n",
       "      <th>Email</th>\n",
       "      <th>Insta_Profile</th>\n",
       "    </tr>\n",
       "  </thead>\n",
       "  <tbody>\n",
       "    <tr>\n",
       "      <th>0</th>\n",
       "      <td>Aakash</td>\n",
       "      <td>Jaipur</td>\n",
       "      <td>Poornima University</td>\n",
       "      <td>aakash@gmail.com</td>\n",
       "      <td>aakash_07</td>\n",
       "    </tr>\n",
       "    <tr>\n",
       "      <th>1</th>\n",
       "      <td>Sun</td>\n",
       "      <td>Ajmer</td>\n",
       "      <td>Manipal University</td>\n",
       "      <td>sun@gmail.com</td>\n",
       "      <td>sun_@star</td>\n",
       "    </tr>\n",
       "    <tr>\n",
       "      <th>2</th>\n",
       "      <td>Moon</td>\n",
       "      <td>Jaipur</td>\n",
       "      <td>JECRC University</td>\n",
       "      <td>moon@gmail.com</td>\n",
       "      <td>moon_@satellite</td>\n",
       "    </tr>\n",
       "    <tr>\n",
       "      <th>3</th>\n",
       "      <td>Earth</td>\n",
       "      <td>Delhi</td>\n",
       "      <td>IIT Delhi</td>\n",
       "      <td>earth@gmail.com</td>\n",
       "      <td>earth_@planet</td>\n",
       "    </tr>\n",
       "    <tr>\n",
       "      <th>4</th>\n",
       "      <td>Mars</td>\n",
       "      <td>Jaipur</td>\n",
       "      <td>Poornima University</td>\n",
       "      <td>mars@gmail.com</td>\n",
       "      <td>mars_@planet</td>\n",
       "    </tr>\n",
       "  </tbody>\n",
       "</table>\n",
       "</div>"
      ],
      "text/plain": [
       "     Name    City         College_Name             Email    Insta_Profile\n",
       "0  Aakash  Jaipur  Poornima University  aakash@gmail.com        aakash_07\n",
       "1     Sun   Ajmer   Manipal University     sun@gmail.com        sun_@star\n",
       "2    Moon  Jaipur     JECRC University    moon@gmail.com  moon_@satellite\n",
       "3   Earth   Delhi            IIT Delhi   earth@gmail.com    earth_@planet\n",
       "4    Mars  Jaipur  Poornima University    mars@gmail.com     mars_@planet"
      ]
     },
     "execution_count": 6,
     "metadata": {},
     "output_type": "execute_result"
    }
   ],
   "source": [
    "import pandas as pd\n",
    "\n",
    "lwdb = {\n",
    "    'Name' : ['Aakash', 'Sun', 'Moon', 'Earth', 'Mars'],\n",
    "    'City' : ['Jaipur', 'Ajmer', 'Jaipur', 'Delhi', 'Jaipur'],\n",
    "    'College_Name' : ['Poornima University', 'Manipal University', 'JECRC University', 'IIT Delhi', 'Poornima University'],\n",
    "    'Email' : ['aakash@gmail.com', 'sun@gmail.com', 'moon@gmail.com', 'earth@gmail.com', 'mars@gmail.com'],\n",
    "    'Insta_Profile' : ['aakash_07', 'sun_@star', 'moon_@satellite', 'earth_@planet', 'mars_@planet'] \n",
    "}\n",
    "\n",
    "print(type(lwdb))\n",
    "\n",
    "lwdbfinal = pd.DataFrame(lwdb)\n",
    "lwdbfinal"
   ]
  },
  {
   "cell_type": "markdown",
   "metadata": {},
   "source": [
    "__Task - 3:__\n",
    "    \n",
    "    Print only all \"name\" and \"email\" from variable \"lwdbfinal\" in one statement\n",
    "    Print insta profile and name  of only record number 2 to 4 only\n"
   ]
  },
  {
   "cell_type": "code",
   "execution_count": 9,
   "metadata": {},
   "outputs": [
    {
     "data": {
      "text/html": [
       "<div>\n",
       "<style scoped>\n",
       "    .dataframe tbody tr th:only-of-type {\n",
       "        vertical-align: middle;\n",
       "    }\n",
       "\n",
       "    .dataframe tbody tr th {\n",
       "        vertical-align: top;\n",
       "    }\n",
       "\n",
       "    .dataframe thead th {\n",
       "        text-align: right;\n",
       "    }\n",
       "</style>\n",
       "<table border=\"1\" class=\"dataframe\">\n",
       "  <thead>\n",
       "    <tr style=\"text-align: right;\">\n",
       "      <th></th>\n",
       "      <th>Name</th>\n",
       "      <th>Email</th>\n",
       "    </tr>\n",
       "  </thead>\n",
       "  <tbody>\n",
       "    <tr>\n",
       "      <th>0</th>\n",
       "      <td>Aakash</td>\n",
       "      <td>aakash@gmail.com</td>\n",
       "    </tr>\n",
       "    <tr>\n",
       "      <th>1</th>\n",
       "      <td>Sun</td>\n",
       "      <td>sun@gmail.com</td>\n",
       "    </tr>\n",
       "    <tr>\n",
       "      <th>2</th>\n",
       "      <td>Moon</td>\n",
       "      <td>moon@gmail.com</td>\n",
       "    </tr>\n",
       "    <tr>\n",
       "      <th>3</th>\n",
       "      <td>Earth</td>\n",
       "      <td>earth@gmail.com</td>\n",
       "    </tr>\n",
       "    <tr>\n",
       "      <th>4</th>\n",
       "      <td>Mars</td>\n",
       "      <td>mars@gmail.com</td>\n",
       "    </tr>\n",
       "  </tbody>\n",
       "</table>\n",
       "</div>"
      ],
      "text/plain": [
       "     Name             Email\n",
       "0  Aakash  aakash@gmail.com\n",
       "1     Sun     sun@gmail.com\n",
       "2    Moon    moon@gmail.com\n",
       "3   Earth   earth@gmail.com\n",
       "4    Mars    mars@gmail.com"
      ]
     },
     "execution_count": 9,
     "metadata": {},
     "output_type": "execute_result"
    }
   ],
   "source": [
    "lwdbfinal[['Name', 'Email']]"
   ]
  },
  {
   "cell_type": "code",
   "execution_count": 15,
   "metadata": {},
   "outputs": [
    {
     "data": {
      "text/html": [
       "<div>\n",
       "<style scoped>\n",
       "    .dataframe tbody tr th:only-of-type {\n",
       "        vertical-align: middle;\n",
       "    }\n",
       "\n",
       "    .dataframe tbody tr th {\n",
       "        vertical-align: top;\n",
       "    }\n",
       "\n",
       "    .dataframe thead th {\n",
       "        text-align: right;\n",
       "    }\n",
       "</style>\n",
       "<table border=\"1\" class=\"dataframe\">\n",
       "  <thead>\n",
       "    <tr style=\"text-align: right;\">\n",
       "      <th></th>\n",
       "      <th>Name</th>\n",
       "      <th>Insta_Profile</th>\n",
       "    </tr>\n",
       "  </thead>\n",
       "  <tbody>\n",
       "    <tr>\n",
       "      <th>1</th>\n",
       "      <td>Sun</td>\n",
       "      <td>sun_@star</td>\n",
       "    </tr>\n",
       "    <tr>\n",
       "      <th>2</th>\n",
       "      <td>Moon</td>\n",
       "      <td>moon_@satellite</td>\n",
       "    </tr>\n",
       "    <tr>\n",
       "      <th>3</th>\n",
       "      <td>Earth</td>\n",
       "      <td>earth_@planet</td>\n",
       "    </tr>\n",
       "  </tbody>\n",
       "</table>\n",
       "</div>"
      ],
      "text/plain": [
       "    Name    Insta_Profile\n",
       "1    Sun        sun_@star\n",
       "2   Moon  moon_@satellite\n",
       "3  Earth    earth_@planet"
      ]
     },
     "execution_count": 15,
     "metadata": {},
     "output_type": "execute_result"
    }
   ],
   "source": [
    "# Printing Name and Insta Profiles of only record number 2 to 4\n",
    "# here indexing starts from 0 so we extract 1 till 4 index (Which excludes 4th index).\n",
    "# So, it prints desired records\n",
    " \n",
    "lwdbfinal.iloc[1:4, [0, 4]] "
   ]
  },
  {
   "cell_type": "markdown",
   "metadata": {},
   "source": [
    "__Task - 4:__\n",
    "\n",
    "    Create python program --> menu.py so that\n",
    "    When anyone run\n",
    "    We present with 4 options, like\n",
    "    Press 1: to start notepad\n",
    "    Press 2: to start chrome or firefox\n",
    "    Press 3: to start vlc player or any other player\n",
    "    Press 4: if ask input which url to open in browser, and when we give url, it open that website in browser"
   ]
  },
  {
   "cell_type": "markdown",
   "metadata": {},
   "source": [
    "**Menu.py is stored in the same directory where this notebook is stored.**"
   ]
  },
  {
   "cell_type": "markdown",
   "metadata": {},
   "source": [
    "__Task - 5:__\n",
    "\n",
    "    In task - 2, you got some data, now you have create program, that help you to search entire information about particular person by asking their name means “Search by Name”\n"
   ]
  },
  {
   "cell_type": "code",
   "execution_count": 30,
   "metadata": {},
   "outputs": [
    {
     "data": {
      "text/html": [
       "<div>\n",
       "<style scoped>\n",
       "    .dataframe tbody tr th:only-of-type {\n",
       "        vertical-align: middle;\n",
       "    }\n",
       "\n",
       "    .dataframe tbody tr th {\n",
       "        vertical-align: top;\n",
       "    }\n",
       "\n",
       "    .dataframe thead th {\n",
       "        text-align: right;\n",
       "    }\n",
       "</style>\n",
       "<table border=\"1\" class=\"dataframe\">\n",
       "  <thead>\n",
       "    <tr style=\"text-align: right;\">\n",
       "      <th></th>\n",
       "      <th>Name</th>\n",
       "      <th>City</th>\n",
       "      <th>College_Name</th>\n",
       "      <th>Email</th>\n",
       "      <th>Insta_Profile</th>\n",
       "    </tr>\n",
       "  </thead>\n",
       "  <tbody>\n",
       "    <tr>\n",
       "      <th>0</th>\n",
       "      <td>Aakash</td>\n",
       "      <td>Jaipur</td>\n",
       "      <td>Poornima University</td>\n",
       "      <td>aakash@gmail.com</td>\n",
       "      <td>aakash_07</td>\n",
       "    </tr>\n",
       "  </tbody>\n",
       "</table>\n",
       "</div>"
      ],
      "text/plain": [
       "     Name    City         College_Name             Email Insta_Profile\n",
       "0  Aakash  Jaipur  Poornima University  aakash@gmail.com     aakash_07"
      ]
     },
     "execution_count": 30,
     "metadata": {},
     "output_type": "execute_result"
    }
   ],
   "source": [
    "# Case where Record exist\n",
    "\n",
    "name = input(\"Enter the Name of the person whose details you want: \")\n",
    "lwdbfinal[lwdbfinal['Name'] == name]"
   ]
  },
  {
   "cell_type": "code",
   "execution_count": 31,
   "metadata": {},
   "outputs": [
    {
     "data": {
      "text/html": [
       "<div>\n",
       "<style scoped>\n",
       "    .dataframe tbody tr th:only-of-type {\n",
       "        vertical-align: middle;\n",
       "    }\n",
       "\n",
       "    .dataframe tbody tr th {\n",
       "        vertical-align: top;\n",
       "    }\n",
       "\n",
       "    .dataframe thead th {\n",
       "        text-align: right;\n",
       "    }\n",
       "</style>\n",
       "<table border=\"1\" class=\"dataframe\">\n",
       "  <thead>\n",
       "    <tr style=\"text-align: right;\">\n",
       "      <th></th>\n",
       "      <th>Name</th>\n",
       "      <th>City</th>\n",
       "      <th>College_Name</th>\n",
       "      <th>Email</th>\n",
       "      <th>Insta_Profile</th>\n",
       "    </tr>\n",
       "  </thead>\n",
       "  <tbody>\n",
       "  </tbody>\n",
       "</table>\n",
       "</div>"
      ],
      "text/plain": [
       "Empty DataFrame\n",
       "Columns: [Name, City, College_Name, Email, Insta_Profile]\n",
       "Index: []"
      ]
     },
     "execution_count": 31,
     "metadata": {},
     "output_type": "execute_result"
    }
   ],
   "source": [
    "# Case where Record doesn't exist\n",
    "\n",
    "name = input(\"Enter the Name of the person whose details you want: \")\n",
    "lwdbfinal[lwdbfinal['Name'] == name]"
   ]
  }
 ],
 "metadata": {
  "kernelspec": {
   "display_name": "Python 3",
   "language": "python",
   "name": "python3"
  },
  "language_info": {
   "codemirror_mode": {
    "name": "ipython",
    "version": 3
   },
   "file_extension": ".py",
   "mimetype": "text/x-python",
   "name": "python",
   "nbconvert_exporter": "python",
   "pygments_lexer": "ipython3",
   "version": "3.12.3"
  }
 },
 "nbformat": 4,
 "nbformat_minor": 2
}
