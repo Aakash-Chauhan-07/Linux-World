{
 "cells": [
  {
   "cell_type": "markdown",
   "metadata": {},
   "source": [
    "# Day 6\n",
    "**Date - May 22, 2024**"
   ]
  },
  {
   "cell_type": "code",
   "execution_count": 2,
   "metadata": {},
   "outputs": [],
   "source": [
    "import cv2\n",
    "import numpy as np"
   ]
  },
  {
   "cell_type": "code",
   "execution_count": 4,
   "metadata": {},
   "outputs": [],
   "source": [
    "import cv2\n",
    "\n",
    "cap = cv2.VideoCapture(0)\n",
    "\n",
    "while True:\n",
    "    status, photo = cap.read()\n",
    "    if status:\n",
    "        # Flip the frame horizontally\n",
    "        mirrored_photo = cv2.flip(photo, 1)\n",
    "        \n",
    "        # Display the mirrored frame\n",
    "        cv2.imshow(\"Mirrored Video\", mirrored_photo)\n",
    "    \n",
    "    # Check for key press to exit\n",
    "    if cv2.waitKey(1) & 0xFF == ord('q'):\n",
    "        break\n",
    "\n",
    "cap.release()\n",
    "cv2.destroyAllWindows()\n"
   ]
  },
  {
   "cell_type": "markdown",
   "metadata": {},
   "source": [
    "**Streaming Video from mobile device camera via IP web Cam**"
   ]
  },
  {
   "cell_type": "code",
   "execution_count": null,
   "metadata": {},
   "outputs": [],
   "source": [
    "import cv2\n",
    "\n",
    "# URL of the camera stream (replace this with the URL provided by the camera streaming app)\n",
    "stream_url = 'https://192.168.111.121:8080/video'\n",
    "\n",
    "# Create a VideoCapture object to capture the camera stream\n",
    "cap = cv2.VideoCapture(stream_url)\n",
    "\n",
    "# Check if the camera stream is opened successfully\n",
    "if not cap.isOpened():\n",
    "    print(\"Error: Unable to open camera stream.\")\n",
    "    exit()\n",
    "\n",
    "# Read and display video frames until a key is pressed\n",
    "while True:\n",
    "    # Capture frame-by-frame\n",
    "    ret, frame = cap.read()\n",
    "\n",
    "    # Check if the frame is read correctly\n",
    "    if not ret:\n",
    "        print(\"Error: Unable to read frame.\")\n",
    "        break\n",
    "\n",
    "    # Display the frame\n",
    "    cv2.imshow('Frame', frame)\n",
    "\n",
    "    # Check for key press\n",
    "    if cv2.waitKey(1) & 0xFF == ord('q'):\n",
    "        break\n",
    "\n",
    "# Release the VideoCapture object and close all OpenCV windows\n",
    "cap.release()\n",
    "cv2.destroyAllWindows()\n"
   ]
  },
  {
   "cell_type": "markdown",
   "metadata": {},
   "source": [
    "**Self - Practice**"
   ]
  },
  {
   "cell_type": "code",
   "execution_count": 1,
   "metadata": {},
   "outputs": [
    {
     "name": "stdout",
     "output_type": "stream",
     "text": [
      "Capturing 5 images...\n",
      "Stitching images together...\n",
      "Error: Stitching failed.\n"
     ]
    }
   ],
   "source": [
    "import cv2\n",
    "\n",
    "# Function to capture multiple images from video feed\n",
    "def capture_images(num_images):\n",
    "    cap = cv2.VideoCapture(0)\n",
    "    images = []\n",
    "\n",
    "    for _ in range(num_images):\n",
    "        ret, frame = cap.read()\n",
    "        if ret:\n",
    "            images.append(frame)\n",
    "            cv2.imshow('Captured Image', frame)\n",
    "            cv2.waitKey(10)  # Wait for 10 milliseconds before capturing the next image\n",
    "\n",
    "    cap.release()\n",
    "    cv2.destroyAllWindows()\n",
    "\n",
    "    return images\n",
    "\n",
    "# Function to stitch images together\n",
    "def stitch_images(images):\n",
    "    stitcher = cv2.Stitcher_create()\n",
    "    status, stitched_image = stitcher.stitch(images)\n",
    "    \n",
    "    if status == cv2.Stitcher_OK:\n",
    "        cv2.imshow('Stitched Image', stitched_image)\n",
    "        cv2.imwrite('panoramic_image.jpg', stitched_image)\n",
    "        cv2.waitKey(0)\n",
    "        cv2.destroyAllWindows()\n",
    "    else:\n",
    "        print(\"Error: Stitching failed.\")\n",
    "\n",
    "# Number of images to capture\n",
    "num_images = 5\n",
    "\n",
    "# Capture images\n",
    "print(f\"Capturing {num_images} images...\")\n",
    "captured_images = capture_images(num_images)\n",
    "\n",
    "# Stitch images\n",
    "print(\"Stitching images together...\")\n",
    "stitch_images(captured_images)"
   ]
  },
  {
   "cell_type": "code",
   "execution_count": null,
   "metadata": {},
   "outputs": [],
   "source": []
  }
 ],
 "metadata": {
  "kernelspec": {
   "display_name": "Python 3",
   "language": "python",
   "name": "python3"
  },
  "language_info": {
   "codemirror_mode": {
    "name": "ipython",
    "version": 3
   },
   "file_extension": ".py",
   "mimetype": "text/x-python",
   "name": "python",
   "nbconvert_exporter": "python",
   "pygments_lexer": "ipython3",
   "version": "3.12.3"
  }
 },
 "nbformat": 4,
 "nbformat_minor": 2
}
