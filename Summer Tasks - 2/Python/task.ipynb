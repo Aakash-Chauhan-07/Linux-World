{
 "cells": [
  {
   "cell_type": "code",
   "execution_count": 1,
   "metadata": {},
   "outputs": [],
   "source": [
    "import cv2\n",
    "\n",
    "# Initialize the webcam\n",
    "cap = cv2.VideoCapture(0)  # 0 is the default camera\n",
    "\n",
    "if not cap.isOpened():\n",
    "    print(\"Error: Could not open video device.\")\n",
    "else:\n",
    "    # Capture a single frame\n",
    "    status, photo = cap.read()\n",
    "\n",
    "    if status:\n",
    "        # Display the captured frame\n",
    "        cv2.imshow('My photo', photo)\n",
    "        # Wait for a key press to close the window\n",
    "        cv2.waitKey(0)\n",
    "    else:\n",
    "        print(\"Error: Could not read frame from video device.\")\n",
    "\n",
    "    # Release the video capture object\n",
    "    cap.release()\n",
    "    # Destroy all OpenCV windows\n",
    "    cv2.destroyAllWindows()"
   ]
  },
  {
   "cell_type": "markdown",
   "metadata": {},
   "source": [
    "__Task - 1:__\n",
    "\n",
    "    Crop the photo and paste the same photo in the photo that is clicked earlier."
   ]
  },
  {
   "cell_type": "code",
   "execution_count": 18,
   "metadata": {},
   "outputs": [],
   "source": [
    "import cv2\n",
    "\n",
    "cap = cv2.VideoCapture(0) \n",
    "\n",
    "status, photo = cap.read()\n",
    "\n",
    "if status:\n",
    "    \n",
    "    # Define the region to crop (row_start, row_end, col_start, col_end)\n",
    "    r_start, r_end, c_start, c_end = 75, 175, 75, 175  # Example values, change as needed\n",
    "    cropped_photo = photo[r_start:r_end, c_start:c_end]\n",
    "    \n",
    "    # Define the position to paste the cropped region back (top-left corner)\n",
    "    paste_r, paste_c = 10, 30  # Example values, change as needed\n",
    "    \n",
    "    # Ensure the paste region is within the bounds of the original photo\n",
    "    photo_height, photo_width = photo.shape[:2]\n",
    "    crop_height, crop_width = cropped_photo.shape[:2]\n",
    "    \n",
    "    if paste_r + crop_height <= photo_height and paste_c + crop_width <= photo_width:\n",
    "        photo[paste_r:paste_r+crop_height, paste_c:paste_c+crop_width] = cropped_photo\n",
    "    else:\n",
    "        print(\"Error: Paste position is out of bounds.\")\n",
    "    \n",
    "    # Display the resulting image\n",
    "    cv2.imshow('My photo', photo)\n",
    "    cv2.waitKey(0)  # Wait indefinitely until a key is pressed\n",
    "    cv2.destroyAllWindows()  # Close all OpenCV windows\n",
    "\n",
    "# Release the camera capture object\n",
    "cap.release()\n"
   ]
  },
  {
   "cell_type": "code",
   "execution_count": 12,
   "metadata": {},
   "outputs": [
    {
     "data": {
      "text/plain": [
       "(480, 640)"
      ]
     },
     "execution_count": 12,
     "metadata": {},
     "output_type": "execute_result"
    }
   ],
   "source": [
    "photo.shape[:2]"
   ]
  },
  {
   "cell_type": "markdown",
   "metadata": {},
   "source": [
    "__Task - 2:__\n",
    "\n",
    "    Click 2 photos and place the 2nd photo in the 1st photo somewhere in the top left\n",
    "    corner."
   ]
  },
  {
   "cell_type": "code",
   "execution_count": 10,
   "metadata": {},
   "outputs": [],
   "source": [
    "import cv2\n",
    "from PIL import Image\n",
    "import numpy as np\n",
    "\n",
    "def capture_images():\n",
    "    # Initialize the camera\n",
    "    cap = cv2.VideoCapture(0)\n",
    "\n",
    "    # Capture the image\n",
    "    ret, frame = cap.read()\n",
    "\n",
    "    # Release the camera\n",
    "    cap.release()\n",
    "\n",
    "    # Return the captured frame\n",
    "    return frame\n",
    "\n",
    "def merge_images(image1, image2, output_path):\n",
    "    # Convert OpenCV images to PIL images\n",
    "    img1 = Image.fromarray(cv2.cvtColor(image1, cv2.COLOR_BGR2RGB))\n",
    "    img2 = Image.fromarray(cv2.cvtColor(image2, cv2.COLOR_BGR2RGB))\n",
    "\n",
    "    # Resize second image to fit within the top-left corner of the first image\n",
    "    width, height = img1.size\n",
    "    img2 = img2.resize((width // 4, height // 4))  # Adjust the scaling as needed\n",
    "\n",
    "    # Paste the second image onto the first image\n",
    "    img1.paste(img2, (0, 0))  # Top-left corner\n",
    "\n",
    "    # Save the result\n",
    "    img1.save(output_path)\n",
    "\n",
    "if __name__ == \"__main__\":\n",
    "    # Capture images\n",
    "    image1 = capture_images()\n",
    "    image2 = capture_images()\n",
    "\n",
    "    # Paths to output\n",
    "    output_path = \"merged_image.jpg\"\n",
    "\n",
    "    # Merge images\n",
    "    merge_images(image1, image2, output_path)\n"
   ]
  },
  {
   "cell_type": "markdown",
   "metadata": {},
   "source": [
    "__Task - 3:__\n",
    "\n",
    "    Download a sunglass photo and overlay on the main photo as filter through python"
   ]
  },
  {
   "cell_type": "code",
   "execution_count": 35,
   "metadata": {},
   "outputs": [],
   "source": [
    "import cv2\n",
    "import numpy as np\n",
    "\n",
    "def overlay_sunglasses(main_photo, sunglass_photo, position):\n",
    "    # Check if main photo is loaded properly\n",
    "    if main_photo is None:\n",
    "        print(\"Error: Main photo could not be loaded.\")\n",
    "        return None\n",
    "\n",
    "    # Check if sunglass photo is loaded properly\n",
    "    if sunglass_photo is None:\n",
    "        print(\"Error: Sunglass photo could not be loaded.\")\n",
    "        return main_photo\n",
    "\n",
    "    # Resize sunglass photo to fit the main photo\n",
    "    sunglass_resized = cv2.resize(sunglass_photo, (160, 80))  # Adjust dimensions as needed\n",
    "\n",
    "    # Check if sunglass photo has an alpha channel\n",
    "    if sunglass_resized.shape[2] == 4:\n",
    "        alpha_sunglasses = sunglass_resized[:, :, 3]\n",
    "    else:\n",
    "        alpha_sunglasses = np.ones_like(sunglass_resized[:, :, 0]) * 255\n",
    "\n",
    "    # Extract region of interest (ROI) from the main photo\n",
    "    roi = main_photo[position[1]:position[1]+sunglass_resized.shape[0], \n",
    "                     position[0]:position[0]+sunglass_resized.shape[1]]\n",
    "\n",
    "    # Extract alpha channel from ROI\n",
    "    alpha_roi = np.ones_like(roi[:, :, 0]) * 255\n",
    "\n",
    "    # Perform alpha blending\n",
    "    alpha_combined = np.minimum(alpha_roi, alpha_sunglasses)\n",
    "    for c in range(0, 3):\n",
    "        roi[:, :, c] = (sunglass_resized[:, :, c] * (alpha_sunglasses / 255.0) +\n",
    "                        roi[:, :, c] * (1.0 - alpha_sunglasses / 255.0))\n",
    "\n",
    "    # Update ROI in the main photo\n",
    "    main_photo[position[1]:position[1]+sunglass_resized.shape[0], \n",
    "               position[0]:position[0]+sunglass_resized.shape[1]] = roi\n",
    "\n",
    "    return main_photo\n",
    "\n",
    "# Load the main photo\n",
    "main_photo = cv2.imread('boy_cartoon.jpg')\n",
    "\n",
    "# Check if main photo is loaded properly\n",
    "if main_photo is None:\n",
    "    print(\"Error: Main photo could not be loaded.\")\n",
    "else:\n",
    "    # Load the sunglass photo with transparent background\n",
    "    sunglass_photo = cv2.imread('sunglass.png', cv2.IMREAD_UNCHANGED)\n",
    "\n",
    "    # Define the position to overlay the sunglasses\n",
    "    position = (420, 220)  # Adjust the position as needed\n",
    "\n",
    "    # Apply the sunglasses filter\n",
    "    result_photo = overlay_sunglasses(main_photo, sunglass_photo, position)\n",
    "\n",
    "    # Display the result\n",
    "    if result_photo is not None:\n",
    "        cv2.imshow('Result', result_photo)\n",
    "        cv2.waitKey(0)\n",
    "        cv2.destroyAllWindows()\n",
    "\n",
    "        # Save the result\n",
    "        cv2.imwrite('result_photo.jpg', result_photo)\n"
   ]
  },
  {
   "cell_type": "markdown",
   "metadata": {},
   "source": [
    "__Task - 4:__\n",
    "\n",
    "    Make your own Numpy array (50 * 50) and output should look like photo through python."
   ]
  },
  {
   "cell_type": "code",
   "execution_count": 40,
   "metadata": {},
   "outputs": [
    {
     "data": {
      "image/png": "[encoded data removed]",
      "text/plain": [
       "<Figure size 640x480 with 1 Axes>"
      ]
     },
     "metadata": {},
     "output_type": "display_data"
    }
   ],
   "source": [
    "import numpy as np\n",
    "import matplotlib.pyplot as plt\n",
    "\n",
    "# Generate a 50x50 NumPy array with random values between 0 and 255 (representing grayscale pixel values)\n",
    "array = np.random.randint(0, 256, size=(50, 50))\n",
    "\n",
    "# Display the array as an image\n",
    "plt.imshow(array, cmap='gray')\n",
    "plt.axis('off')  # Turn off axis labels\n",
    "plt.show()"
   ]
  },
  {
   "cell_type": "code",
   "execution_count": 41,
   "metadata": {},
   "outputs": [
    {
     "data": {
      "image/png": "[encoded data removed]",
      "text/plain": [
       "<Figure size 640x480 with 1 Axes>"
      ]
     },
     "metadata": {},
     "output_type": "display_data"
    }
   ],
   "source": [
    "import numpy as np\n",
    "import matplotlib.pyplot as plt\n",
    "\n",
    "# Generate random RGB values for each pixel in the image\n",
    "rgb_image = np.random.randint(0, 256, size=(50, 50, 3), dtype=np.uint8)\n",
    "\n",
    "# Display the RGB image\n",
    "plt.imshow(rgb_image)\n",
    "plt.axis('off')\n",
    "plt.show()"
   ]
  },
  {
   "cell_type": "code",
   "execution_count": null,
   "metadata": {},
   "outputs": [],
   "source": []
  }
 ],
 "metadata": {
  "kernelspec": {
   "display_name": "Python 3",
   "language": "python",
   "name": "python3"
  },
  "language_info": {
   "codemirror_mode": {
    "name": "ipython",
    "version": 3
   },
   "file_extension": ".py",
   "mimetype": "text/x-python",
   "name": "python",
   "nbconvert_exporter": "python",
   "pygments_lexer": "ipython3",
   "version": "3.12.3"
  }
 },
 "nbformat": 4,
 "nbformat_minor": 2
}
