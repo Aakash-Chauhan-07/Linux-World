{
 "cells": [
  {
   "cell_type": "code",
   "execution_count": 1,
   "metadata": {},
   "outputs": [
    {
     "name": "stdout",
     "output_type": "stream",
     "text": [
      "!! -- Welcome to the tool - - !!\n",
      "\n",
      "\n",
      "Press 1: Open Chrome browser\n",
      "Press 2: Open vlc player\n",
      "Press 3: Open notepad\n",
      "Press 4: Creating directory\n"
     ]
    }
   ],
   "source": [
    "import subprocess as sp\n",
    "\n",
    "print('!! -- Welcome to the tool - - !!\\n\\n')\n",
    "\n",
    "print('Press 1: Open Chrome browser')\n",
    "print('Press 2: Open vlc player')\n",
    "print('Press 3: Open notepad')\n",
    "print('Press 4: Creating directory')\n",
    "\n",
    "ch = int(input('Enter Your choice: '))\n",
    "\n",
    "if ch == 1:\n",
    "    sp.run('\"C:\\\\Program Files\\\\Google\\\\Chrome\\\\Application\\\\chrome.exe\"', shell = True)\n",
    "elif ch == 2:\n",
    "    sp.run(\"C:\\\\Program Files\\\\VideoLAN\\\\VLC\\\\vlc.exe\", shell = True)\n",
    "elif ch == 3:\n",
    "    sp.run(\"notepad.exe\", shell = True)\n",
    "elif ch == 4:\n",
    "    dir = input(\"Enter your directory name: \")\n",
    "    path = input(\"Enter path at which you want put in or write current for current directory: \")\n",
    "    if path == 'current':\n",
    "        sp.run(f\"mkdir {dir}\", shell = True)\n",
    "    else:\n",
    "        sp.run(f\"mkdir {path} {dir}\", shell = True)\n",
    "else:\n",
    "    print(\"Invalid choice\")"
   ]
  },
  {
   "cell_type": "code",
   "execution_count": null,
   "metadata": {},
   "outputs": [],
   "source": []
  },
  {
   "cell_type": "code",
   "execution_count": null,
   "metadata": {},
   "outputs": [],
   "source": []
  },
  {
   "cell_type": "code",
   "execution_count": 2,
   "metadata": {},
   "outputs": [
    {
     "data": {
      "text/plain": [
       "False"
      ]
     },
     "execution_count": 2,
     "metadata": {},
     "output_type": "execute_result"
    }
   ],
   "source": [
    "s = \"this is linux world\"\n",
    "\n",
    "\"vimal\" in s"
   ]
  },
  {
   "cell_type": "code",
   "execution_count": 6,
   "metadata": {},
   "outputs": [
    {
     "data": {
      "text/plain": [
       "True"
      ]
     },
     "execution_count": 6,
     "metadata": {},
     "output_type": "execute_result"
    }
   ],
   "source": [
    "s = \"can you please launch notepad for me\"\n",
    "\n",
    "\"notepad\" in s"
   ]
  },
  {
   "cell_type": "code",
   "execution_count": 4,
   "metadata": {},
   "outputs": [],
   "source": [
    "import subprocess as sp\n",
    "\n",
    "ch = input(\"Enter your choice: \")\n",
    "\n",
    "if \"notepad\" in ch:\n",
    "    sp.run('notepad', shell = True)"
   ]
  },
  {
   "cell_type": "markdown",
   "metadata": {},
   "source": [
    "**and & or operator**"
   ]
  },
  {
   "cell_type": "code",
   "execution_count": 9,
   "metadata": {},
   "outputs": [
    {
     "data": {
      "text/plain": [
       "False"
      ]
     },
     "execution_count": 9,
     "metadata": {},
     "output_type": "execute_result"
    }
   ],
   "source": [
    "5 < 2 and 3 < 6"
   ]
  },
  {
   "cell_type": "code",
   "execution_count": 10,
   "metadata": {},
   "outputs": [
    {
     "data": {
      "text/plain": [
       "True"
      ]
     },
     "execution_count": 10,
     "metadata": {},
     "output_type": "execute_result"
    }
   ],
   "source": [
    "4 > 2 and 5 < 10"
   ]
  },
  {
   "cell_type": "code",
   "execution_count": 11,
   "metadata": {},
   "outputs": [
    {
     "data": {
      "text/plain": [
       "True"
      ]
     },
     "execution_count": 11,
     "metadata": {},
     "output_type": "execute_result"
    }
   ],
   "source": [
    "5 < 2 or 3 < 6"
   ]
  },
  {
   "cell_type": "code",
   "execution_count": null,
   "metadata": {},
   "outputs": [],
   "source": [
    "s = \"Can you help me to dont open notepad\"\n",
    "\"notepad\" in s and \"dont\" not in s"
   ]
  },
  {
   "cell_type": "code",
   "execution_count": 14,
   "metadata": {},
   "outputs": [
    {
     "name": "stdout",
     "output_type": "stream",
     "text": [
      "Bye - Bye\n"
     ]
    }
   ],
   "source": [
    "import subprocess as sp\n",
    "\n",
    "ch = input(\"Enter your choice: \")\n",
    "\n",
    "if \"notepad\" in ch and \"dont\" not in ch:\n",
    "    sp.run('notepad', shell = True)\n",
    "elif \"chrome\" in ch and \"dont\" not in ch:\n",
    "    sp.run('\"C:\\\\Program Files\\\\Google\\\\Chrome\\\\Application\\\\chrome.exe\"', shell = True)\n",
    "elif \"vlc\" in ch and \"dont\" not in ch:\n",
    "    sp.run(\"C:\\\\Program Files\\\\VideoLAN\\\\VLC\\\\vlc.exe\", shell = True)\n",
    "elif \"directory\" or \"folder\" in ch and \"dont\" not in ch:\n",
    "    dir = input(\"Enter your directory name: \")\n",
    "    path = input(\"Enter path at which you want put in or write current for current directory: \")\n",
    "    if path == 'current':\n",
    "        sp.run(f\"mkdir {dir}\", shell = True)\n",
    "    else:\n",
    "        sp.run(f\"mkdir {path} {dir}\", shell = True)\n",
    "else:\n",
    "    print(\"Invalid Request\")"
   ]
  },
  {
   "cell_type": "code",
   "execution_count": null,
   "metadata": {},
   "outputs": [],
   "source": []
  }
 ],
 "metadata": {
  "kernelspec": {
   "display_name": "Python 3",
   "language": "python",
   "name": "python3"
  },
  "language_info": {
   "codemirror_mode": {
    "name": "ipython",
    "version": 3
   },
   "file_extension": ".py",
   "mimetype": "text/x-python",
   "name": "python",
   "nbconvert_exporter": "python",
   "pygments_lexer": "ipython3",
   "version": "3.12.3"
  }
 },
 "nbformat": 4,
 "nbformat_minor": 2
}
