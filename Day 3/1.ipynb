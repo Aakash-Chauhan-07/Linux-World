{
 "cells": [
  {
   "cell_type": "markdown",
   "metadata": {},
   "source": [
    "# Date - May 17, 2024\n",
    "\n",
    "**Day - 3**"
   ]
  },
  {
   "cell_type": "markdown",
   "metadata": {},
   "source": [
    "# Function"
   ]
  },
  {
   "cell_type": "code",
   "execution_count": 3,
   "metadata": {},
   "outputs": [],
   "source": [
    "def add(x, y):\n",
    "    c = x + y\n",
    "    return c\n",
    "\n",
    "def lw():\n",
    "    x = 5\n",
    "    y = 10\n",
    "    s = x + y\n",
    "    print(s)"
   ]
  },
  {
   "cell_type": "code",
   "execution_count": 4,
   "metadata": {},
   "outputs": [
    {
     "data": {
      "text/plain": [
       "10"
      ]
     },
     "execution_count": 4,
     "metadata": {},
     "output_type": "execute_result"
    }
   ],
   "source": [
    "add(2, 8)"
   ]
  },
  {
   "cell_type": "code",
   "execution_count": 5,
   "metadata": {},
   "outputs": [
    {
     "name": "stdout",
     "output_type": "stream",
     "text": [
      "15\n"
     ]
    }
   ],
   "source": [
    "lw()"
   ]
  },
  {
   "cell_type": "code",
   "execution_count": 13,
   "metadata": {},
   "outputs": [
    {
     "name": "stdout",
     "output_type": "stream",
     "text": [
      "Tea done:  3 and 100 ml milk\n"
     ]
    }
   ],
   "source": [
    "def prepareTea(milk, sugar = 1):\n",
    "    print(\"Tea done: \", sugar, \"and\", milk, \"ml milk\")\n",
    "\n",
    "prepareTea(100, 3)"
   ]
  },
  {
   "cell_type": "code",
   "execution_count": 15,
   "metadata": {},
   "outputs": [
    {
     "data": {
      "text/plain": [
       "200"
      ]
     },
     "execution_count": 15,
     "metadata": {},
     "output_type": "execute_result"
    }
   ],
   "source": [
    "def lw(x, y):\n",
    "    return x + y\n",
    "\n",
    "x = lw(100, 100)\n",
    "x"
   ]
  },
  {
   "cell_type": "markdown",
   "metadata": {},
   "source": [
    "import subprocess\n",
    "\n",
    "subprocess.getoutput()\n",
    "\n",
    "\n",
    "this is used to get output of commands run on system and can be saved in variable "
   ]
  },
  {
   "cell_type": "code",
   "execution_count": 3,
   "metadata": {},
   "outputs": [
    {
     "name": "stdout",
     "output_type": "stream",
     "text": [
      "(1, 2, 3, 4, 5, 6, 7, 8, 9)\n"
     ]
    }
   ],
   "source": [
    "def function(*i):\n",
    "    print(i)\n",
    "\n",
    "function(1, 2, 3, 4, 5, 6, 7, 8, 9)"
   ]
  },
  {
   "cell_type": "markdown",
   "metadata": {},
   "source": [
    "0 to n parameters can be given in these functions - function() and bulkmail()"
   ]
  },
  {
   "cell_type": "code",
   "execution_count": 4,
   "metadata": {},
   "outputs": [],
   "source": [
    "def bulkmail(*i):\n",
    "    print('mail: ', i)"
   ]
  },
  {
   "cell_type": "code",
   "execution_count": 5,
   "metadata": {},
   "outputs": [
    {
     "name": "stdout",
     "output_type": "stream",
     "text": [
      "mail:  (11, 22, 33, 44)\n"
     ]
    }
   ],
   "source": [
    "bulkmail(11, 22, 33, 44)"
   ]
  },
  {
   "cell_type": "code",
   "execution_count": 7,
   "metadata": {},
   "outputs": [
    {
     "name": "stdout",
     "output_type": "stream",
     "text": [
      "mail:  333  to  ()\n"
     ]
    }
   ],
   "source": [
    "def mail(f, *to): # f parameter is compulsory rest are optional\n",
    "    print(\"mail: \", f, \" to \", to)\n",
    "\n",
    "mail(333)"
   ]
  },
  {
   "cell_type": "code",
   "execution_count": 12,
   "metadata": {},
   "outputs": [
    {
     "name": "stdout",
     "output_type": "stream",
     "text": [
      "Name:  Aakash\n",
      "Mail:  hello@example.com\n",
      "Mobile:  77777\n"
     ]
    }
   ],
   "source": [
    "def lwstudent(name, mail, mob):\n",
    "    print(\"Name: \", name)\n",
    "    print(\"Mail: \", mail)\n",
    "    print(\"Mobile: \", mob)\n",
    "\n",
    "# Assign using parameters name in order to avoid code corruption while function call\n",
    "\n",
    "lwstudent(\n",
    "    name = 'Aakash', \n",
    "    mob = 77777, \n",
    "    mail = 'hello@example.com'\n",
    ")"
   ]
  },
  {
   "cell_type": "markdown",
   "metadata": {},
   "source": [
    "Casing \n",
    "\n",
    "Snake Case --> hello_world_aakash\n",
    "\n",
    "Camel Case --> helloWorldAakash"
   ]
  },
  {
   "cell_type": "code",
   "execution_count": null,
   "metadata": {},
   "outputs": [],
   "source": []
  }
 ],
 "metadata": {
  "kernelspec": {
   "display_name": "Python 3",
   "language": "python",
   "name": "python3"
  },
  "language_info": {
   "codemirror_mode": {
    "name": "ipython",
    "version": 3
   },
   "file_extension": ".py",
   "mimetype": "text/x-python",
   "name": "python",
   "nbconvert_exporter": "python",
   "pygments_lexer": "ipython3",
   "version": "3.12.3"
  }
 },
 "nbformat": 4,
 "nbformat_minor": 2
}
