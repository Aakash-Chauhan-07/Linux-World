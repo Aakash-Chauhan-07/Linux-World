{
 "cells": [
  {
   "cell_type": "code",
   "execution_count": 2,
   "metadata": {},
   "outputs": [],
   "source": [
    "import pymongo as pm"
   ]
  },
  {
   "cell_type": "code",
   "execution_count": 3,
   "metadata": {},
   "outputs": [
    {
     "data": {
      "text/plain": [
       "['ASCENDING',\n",
       " 'ContextManager',\n",
       " 'CursorType',\n",
       " 'DESCENDING',\n",
       " 'DeleteMany',\n",
       " 'DeleteOne',\n",
       " 'GEO2D',\n",
       " 'GEOSPHERE',\n",
       " 'HASHED',\n",
       " 'IndexModel',\n",
       " 'InsertOne',\n",
       " 'MAX_SUPPORTED_WIRE_VERSION',\n",
       " 'MIN_SUPPORTED_WIRE_VERSION',\n",
       " 'MongoClient',\n",
       " 'Optional',\n",
       " 'ReadPreference',\n",
       " 'ReplaceOne',\n",
       " 'ReturnDocument',\n",
       " 'TEXT',\n",
       " 'UpdateMany',\n",
       " 'UpdateOne',\n",
       " 'WriteConcern',\n",
       " '__all__',\n",
       " '__builtins__',\n",
       " '__cached__',\n",
       " '__doc__',\n",
       " '__file__',\n",
       " '__loader__',\n",
       " '__name__',\n",
       " '__package__',\n",
       " '__path__',\n",
       " '__spec__',\n",
       " '__version__',\n",
       " '_cmessage',\n",
       " '_csot',\n",
       " '_version',\n",
       " 'aggregation',\n",
       " 'annotations',\n",
       " 'bulk',\n",
       " 'change_stream',\n",
       " 'client_options',\n",
       " 'client_session',\n",
       " 'collation',\n",
       " 'collection',\n",
       " 'command_cursor',\n",
       " 'common',\n",
       " 'compression_support',\n",
       " 'cursor',\n",
       " 'database',\n",
       " 'driver_info',\n",
       " 'errors',\n",
       " 'get_version_string',\n",
       " 'has_c',\n",
       " 'hello',\n",
       " 'helpers',\n",
       " 'lock',\n",
       " 'logger',\n",
       " 'max_staleness_selectors',\n",
       " 'message',\n",
       " 'mongo_client',\n",
       " 'monitor',\n",
       " 'monitoring',\n",
       " 'network',\n",
       " 'operations',\n",
       " 'periodic_executor',\n",
       " 'pool',\n",
       " 'read_concern',\n",
       " 'read_preferences',\n",
       " 'response',\n",
       " 'results',\n",
       " 'server',\n",
       " 'server_api',\n",
       " 'server_description',\n",
       " 'server_selectors',\n",
       " 'server_type',\n",
       " 'settings',\n",
       " 'socket_checker',\n",
       " 'srv_resolver',\n",
       " 'ssl_context',\n",
       " 'ssl_support',\n",
       " 'timeout',\n",
       " 'topology',\n",
       " 'topology_description',\n",
       " 'typings',\n",
       " 'uri_parser',\n",
       " 'version',\n",
       " 'version_tuple',\n",
       " 'write_concern']"
      ]
     },
     "execution_count": 3,
     "metadata": {},
     "output_type": "execute_result"
    }
   ],
   "source": [
    "dir(pm)"
   ]
  },
  {
   "cell_type": "code",
   "execution_count": 5,
   "metadata": {},
   "outputs": [],
   "source": [
    "client = pm.MongoClient(\"mongodb://localhost:27017\")"
   ]
  },
  {
   "cell_type": "code",
   "execution_count": 9,
   "metadata": {},
   "outputs": [
    {
     "data": {
      "text/plain": [
       "['Newlwdb1', 'admin', 'config', 'local', 'lwdb123']"
      ]
     },
     "execution_count": 9,
     "metadata": {},
     "output_type": "execute_result"
    }
   ],
   "source": [
    "client.list_database_names()"
   ]
  },
  {
   "cell_type": "code",
   "execution_count": 11,
   "metadata": {},
   "outputs": [],
   "source": [
    "db = client.get_database('Newlwdb1')"
   ]
  },
  {
   "cell_type": "code",
   "execution_count": 12,
   "metadata": {},
   "outputs": [
    {
     "data": {
      "text/plain": [
       "['_BaseObject__codec_options',\n",
       " '_BaseObject__read_concern',\n",
       " '_BaseObject__read_preference',\n",
       " '_BaseObject__write_concern',\n",
       " '_Database__client',\n",
       " '_Database__name',\n",
       " '__annotations__',\n",
       " '__bool__',\n",
       " '__class__',\n",
       " '__class_getitem__',\n",
       " '__delattr__',\n",
       " '__dict__',\n",
       " '__dir__',\n",
       " '__doc__',\n",
       " '__eq__',\n",
       " '__format__',\n",
       " '__ge__',\n",
       " '__getattr__',\n",
       " '__getattribute__',\n",
       " '__getitem__',\n",
       " '__getstate__',\n",
       " '__gt__',\n",
       " '__hash__',\n",
       " '__init__',\n",
       " '__init_subclass__',\n",
       " '__iter__',\n",
       " '__le__',\n",
       " '__lt__',\n",
       " '__module__',\n",
       " '__ne__',\n",
       " '__new__',\n",
       " '__next__',\n",
       " '__orig_bases__',\n",
       " '__parameters__',\n",
       " '__reduce__',\n",
       " '__reduce_ex__',\n",
       " '__repr__',\n",
       " '__setattr__',\n",
       " '__sizeof__',\n",
       " '__str__',\n",
       " '__subclasshook__',\n",
       " '__weakref__',\n",
       " '_command',\n",
       " '_drop_helper',\n",
       " '_get_encrypted_fields',\n",
       " '_list_collections',\n",
       " '_read_preference_for',\n",
       " '_retryable_read_command',\n",
       " '_timeout',\n",
       " '_write_concern_for',\n",
       " 'aggregate',\n",
       " 'client',\n",
       " 'codec_options',\n",
       " 'command',\n",
       " 'create_collection',\n",
       " 'cursor_command',\n",
       " 'dereference',\n",
       " 'drop_collection',\n",
       " 'get_collection',\n",
       " 'list_collection_names',\n",
       " 'list_collections',\n",
       " 'name',\n",
       " 'next',\n",
       " 'read_concern',\n",
       " 'read_preference',\n",
       " 'validate_collection',\n",
       " 'watch',\n",
       " 'with_options',\n",
       " 'write_concern']"
      ]
     },
     "execution_count": 12,
     "metadata": {},
     "output_type": "execute_result"
    }
   ],
   "source": [
    "dir(db)"
   ]
  },
  {
   "cell_type": "code",
   "execution_count": 14,
   "metadata": {},
   "outputs": [
    {
     "data": {
      "text/plain": [
       "['projects']"
      ]
     },
     "execution_count": 14,
     "metadata": {},
     "output_type": "execute_result"
    }
   ],
   "source": [
    "db.list_collection_names()"
   ]
  },
  {
   "cell_type": "code",
   "execution_count": 15,
   "metadata": {},
   "outputs": [],
   "source": [
    "c1 = db.get_collection('projects')"
   ]
  },
  {
   "cell_type": "code",
   "execution_count": 16,
   "metadata": {},
   "outputs": [
    {
     "data": {
      "text/plain": [
       "['_BaseObject__codec_options',\n",
       " '_BaseObject__read_concern',\n",
       " '_BaseObject__read_preference',\n",
       " '_BaseObject__write_concern',\n",
       " '_Collection__create',\n",
       " '_Collection__create_indexes',\n",
       " '_Collection__database',\n",
       " '_Collection__find_and_modify',\n",
       " '_Collection__full_name',\n",
       " '_Collection__name',\n",
       " '_Collection__write_response_codec_options',\n",
       " '__annotations__',\n",
       " '__bool__',\n",
       " '__call__',\n",
       " '__class__',\n",
       " '__class_getitem__',\n",
       " '__delattr__',\n",
       " '__dict__',\n",
       " '__dir__',\n",
       " '__doc__',\n",
       " '__eq__',\n",
       " '__format__',\n",
       " '__ge__',\n",
       " '__getattr__',\n",
       " '__getattribute__',\n",
       " '__getitem__',\n",
       " '__getstate__',\n",
       " '__gt__',\n",
       " '__hash__',\n",
       " '__init__',\n",
       " '__init_subclass__',\n",
       " '__iter__',\n",
       " '__le__',\n",
       " '__lt__',\n",
       " '__module__',\n",
       " '__ne__',\n",
       " '__new__',\n",
       " '__next__',\n",
       " '__orig_bases__',\n",
       " '__parameters__',\n",
       " '__reduce__',\n",
       " '__reduce_ex__',\n",
       " '__repr__',\n",
       " '__setattr__',\n",
       " '__sizeof__',\n",
       " '__str__',\n",
       " '__subclasshook__',\n",
       " '__weakref__',\n",
       " '_aggregate',\n",
       " '_aggregate_one_result',\n",
       " '_command',\n",
       " '_conn_for_writes',\n",
       " '_count_cmd',\n",
       " '_delete',\n",
       " '_delete_retryable',\n",
       " '_insert_one',\n",
       " '_read_preference_for',\n",
       " '_retryable_non_cursor_read',\n",
       " '_timeout',\n",
       " '_update',\n",
       " '_update_retryable',\n",
       " '_write_concern_for',\n",
       " '_write_concern_for_cmd',\n",
       " 'aggregate',\n",
       " 'aggregate_raw_batches',\n",
       " 'bulk_write',\n",
       " 'codec_options',\n",
       " 'count_documents',\n",
       " 'create_index',\n",
       " 'create_indexes',\n",
       " 'create_search_index',\n",
       " 'create_search_indexes',\n",
       " 'database',\n",
       " 'delete_many',\n",
       " 'delete_one',\n",
       " 'distinct',\n",
       " 'drop',\n",
       " 'drop_index',\n",
       " 'drop_indexes',\n",
       " 'drop_search_index',\n",
       " 'estimated_document_count',\n",
       " 'find',\n",
       " 'find_one',\n",
       " 'find_one_and_delete',\n",
       " 'find_one_and_replace',\n",
       " 'find_one_and_update',\n",
       " 'find_raw_batches',\n",
       " 'full_name',\n",
       " 'index_information',\n",
       " 'insert_many',\n",
       " 'insert_one',\n",
       " 'list_indexes',\n",
       " 'list_search_indexes',\n",
       " 'name',\n",
       " 'next',\n",
       " 'options',\n",
       " 'read_concern',\n",
       " 'read_preference',\n",
       " 'rename',\n",
       " 'replace_one',\n",
       " 'update_many',\n",
       " 'update_one',\n",
       " 'update_search_index',\n",
       " 'watch',\n",
       " 'with_options',\n",
       " 'write_concern']"
      ]
     },
     "execution_count": 16,
     "metadata": {},
     "output_type": "execute_result"
    }
   ],
   "source": [
    "dir(c1)"
   ]
  },
  {
   "cell_type": "code",
   "execution_count": 17,
   "metadata": {},
   "outputs": [],
   "source": [
    "myDB = client['vimaldb']"
   ]
  },
  {
   "cell_type": "code",
   "execution_count": null,
   "metadata": {},
   "outputs": [],
   "source": [
    "myDB.create_collection('new_1')"
   ]
  },
  {
   "cell_type": "code",
   "execution_count": 22,
   "metadata": {},
   "outputs": [
    {
     "data": {
      "text/plain": [
       "Collection(Database(MongoClient(host=['localhost:27017'], document_class=dict, tz_aware=False, connect=True), 'vimaldb'), 'new1')"
      ]
     },
     "execution_count": 22,
     "metadata": {},
     "output_type": "execute_result"
    }
   ],
   "source": [
    "myDB.get_collection(name=\"new1\")"
   ]
  },
  {
   "cell_type": "code",
   "execution_count": 23,
   "metadata": {},
   "outputs": [
    {
     "data": {
      "text/plain": [
       "['Newlwdb1', 'admin', 'config', 'local', 'lwdb123', 'vimaldb']"
      ]
     },
     "execution_count": 23,
     "metadata": {},
     "output_type": "execute_result"
    }
   ],
   "source": [
    "client.list_database_names()"
   ]
  },
  {
   "cell_type": "code",
   "execution_count": 28,
   "metadata": {},
   "outputs": [],
   "source": [
    "myDB['new_1'].find_one()"
   ]
  },
  {
   "cell_type": "code",
   "execution_count": 29,
   "metadata": {},
   "outputs": [],
   "source": [
    "data = {\n",
    "    \"name\" : \"tom\",\n",
    "    \"phone\" : 2876,\n",
    "    \"age\" : 21,\n",
    "    \"gender\" : \"male\"\n",
    "}"
   ]
  },
  {
   "cell_type": "code",
   "execution_count": 31,
   "metadata": {},
   "outputs": [
    {
     "data": {
      "text/plain": [
       "InsertOneResult(ObjectId('6662fae3fe39a469dc550d83'), acknowledged=True)"
      ]
     },
     "execution_count": 31,
     "metadata": {},
     "output_type": "execute_result"
    }
   ],
   "source": [
    "myDB['new_1'].insert_one(data)"
   ]
  },
  {
   "cell_type": "code",
   "execution_count": 35,
   "metadata": {},
   "outputs": [
    {
     "data": {
      "text/plain": [
       "{'_id': ObjectId('6662fae3fe39a469dc550d83'),\n",
       " 'name': 'tom',\n",
       " 'phone': 2876,\n",
       " 'age': 21,\n",
       " 'gender': 'male'}"
      ]
     },
     "execution_count": 35,
     "metadata": {},
     "output_type": "execute_result"
    }
   ],
   "source": [
    "myDB['new_1'].find_one()"
   ]
  },
  {
   "cell_type": "code",
   "execution_count": 48,
   "metadata": {},
   "outputs": [
    {
     "name": "stdout",
     "output_type": "stream",
     "text": [
      "{'_id': ObjectId('6662fae3fe39a469dc550d83'), 'name': 'tom', 'phone': 2876, 'age': 21, 'gender': 'male'}\n",
      "{'_id': ObjectId('6662fce8fe39a469dc550d84'), 'name': 'dilip', 'age': 21, 'gender': 'male'}\n",
      "{'_id': ObjectId('6662fd0cfe39a469dc550d86'), 'name': 'datta', 'age': 21, 'gender': 'male'}\n"
     ]
    }
   ],
   "source": [
    "for i in myDB['new_1'].find():\n",
    "    print(i)"
   ]
  },
  {
   "cell_type": "code",
   "execution_count": 74,
   "metadata": {},
   "outputs": [],
   "source": [
    "data = {\n",
    "    \"name\" :  \"ramlal\",\n",
    "    'age' : 19,\n",
    "    'gender' : 'male'\n",
    "}"
   ]
  },
  {
   "cell_type": "code",
   "execution_count": 75,
   "metadata": {},
   "outputs": [
    {
     "data": {
      "text/plain": [
       "InsertOneResult(ObjectId('6663010ffe39a469dc550d87'), acknowledged=True)"
      ]
     },
     "execution_count": 75,
     "metadata": {},
     "output_type": "execute_result"
    }
   ],
   "source": [
    "myDB['new_1'].insert_one(data)"
   ]
  },
  {
   "cell_type": "code",
   "execution_count": 47,
   "metadata": {},
   "outputs": [
    {
     "data": {
      "text/plain": [
       "DeleteResult({'n': 1, 'ok': 1.0}, acknowledged=True)"
      ]
     },
     "execution_count": 47,
     "metadata": {},
     "output_type": "execute_result"
    }
   ],
   "source": [
    "myDB['new_1'].delete_one({'name' : \"dilip\", \"gender\" : \"female\"})"
   ]
  },
  {
   "cell_type": "code",
   "execution_count": 76,
   "metadata": {},
   "outputs": [
    {
     "name": "stdout",
     "output_type": "stream",
     "text": [
      "{'_id': ObjectId('6662fae3fe39a469dc550d83'), 'name': 'tom', 'phone': 2876, 'age': 21, 'gender': 'male'}\n",
      "<class 'dict'>\n",
      "{'_id': ObjectId('6662fce8fe39a469dc550d84'), 'name': 'dilip', 'age': 21, 'gender': 'male'}\n",
      "<class 'dict'>\n",
      "{'_id': ObjectId('6662fd0cfe39a469dc550d86'), 'name': 'datta', 'age': 21, 'gender': 'male'}\n",
      "<class 'dict'>\n",
      "{'_id': ObjectId('6663010ffe39a469dc550d87'), 'name': 'ramlal', 'age': 19, 'gender': 'male'}\n",
      "<class 'dict'>\n"
     ]
    }
   ],
   "source": [
    "for i in myDB['new_1'].find():\n",
    "    print(i)\n",
    "    print(type(i))"
   ]
  },
  {
   "cell_type": "code",
   "execution_count": 58,
   "metadata": {},
   "outputs": [
    {
     "name": "stdout",
     "output_type": "stream",
     "text": [
      "21\n",
      "21\n",
      "21\n"
     ]
    }
   ],
   "source": [
    "for i in myDB['new_1'].find():\n",
    "    print(i['age'])\n",
    "    "
   ]
  },
  {
   "cell_type": "code",
   "execution_count": 77,
   "metadata": {},
   "outputs": [],
   "source": [
    "sab = myDB['new_1'].find({'age': {'$gt' : 20}})"
   ]
  },
  {
   "cell_type": "code",
   "execution_count": 78,
   "metadata": {},
   "outputs": [
    {
     "data": {
      "text/plain": [
       "pymongo.cursor.Cursor"
      ]
     },
     "execution_count": 78,
     "metadata": {},
     "output_type": "execute_result"
    }
   ],
   "source": [
    "type(sab)"
   ]
  },
  {
   "cell_type": "code",
   "execution_count": 79,
   "metadata": {},
   "outputs": [
    {
     "name": "stdout",
     "output_type": "stream",
     "text": [
      "{'_id': ObjectId('6662fae3fe39a469dc550d83'), 'name': 'tom', 'phone': 2876, 'age': 21, 'gender': 'male'}\n",
      "{'_id': ObjectId('6662fce8fe39a469dc550d84'), 'name': 'dilip', 'age': 21, 'gender': 'male'}\n",
      "{'_id': ObjectId('6662fd0cfe39a469dc550d86'), 'name': 'datta', 'age': 21, 'gender': 'male'}\n"
     ]
    }
   ],
   "source": [
    "for i in sab:\n",
    "    print(i)"
   ]
  },
  {
   "cell_type": "code",
   "execution_count": null,
   "metadata": {},
   "outputs": [],
   "source": []
  },
  {
   "cell_type": "code",
   "execution_count": null,
   "metadata": {},
   "outputs": [],
   "source": []
  },
  {
   "cell_type": "code",
   "execution_count": null,
   "metadata": {},
   "outputs": [],
   "source": []
  }
 ],
 "metadata": {
  "kernelspec": {
   "display_name": "Python 3",
   "language": "python",
   "name": "python3"
  },
  "language_info": {
   "codemirror_mode": {
    "name": "ipython",
    "version": 3
   },
   "file_extension": ".py",
   "mimetype": "text/x-python",
   "name": "python",
   "nbconvert_exporter": "python",
   "pygments_lexer": "ipython3",
   "version": "3.12.3"
  }
 },
 "nbformat": 4,
 "nbformat_minor": 2
}
