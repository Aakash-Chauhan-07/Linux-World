{
 "cells": [
  {
   "cell_type": "code",
   "execution_count": 1,
   "metadata": {},
   "outputs": [],
   "source": [
    "from sklearn.datasets import load_wine"
   ]
  },
  {
   "cell_type": "code",
   "execution_count": 2,
   "metadata": {},
   "outputs": [],
   "source": [
    "from keras import Sequential, layers\n",
    "from keras.layers import Dense"
   ]
  },
  {
   "cell_type": "code",
   "execution_count": 3,
   "metadata": {},
   "outputs": [],
   "source": [
    "from sklearn.model_selection import train_test_split"
   ]
  },
  {
   "cell_type": "code",
   "execution_count": 4,
   "metadata": {},
   "outputs": [],
   "source": [
    "from keras.utils import to_categorical"
   ]
  },
  {
   "cell_type": "code",
   "execution_count": 5,
   "metadata": {},
   "outputs": [],
   "source": [
    "X, y = load_wine(return_X_y=True)"
   ]
  },
  {
   "cell_type": "code",
   "execution_count": 6,
   "metadata": {},
   "outputs": [
    {
     "data": {
      "text/plain": [
       "(178, 13)"
      ]
     },
     "execution_count": 6,
     "metadata": {},
     "output_type": "execute_result"
    }
   ],
   "source": [
    "X.shape"
   ]
  },
  {
   "cell_type": "code",
   "execution_count": 7,
   "metadata": {},
   "outputs": [],
   "source": [
    "y = to_categorical(y)"
   ]
  },
  {
   "cell_type": "code",
   "execution_count": 8,
   "metadata": {},
   "outputs": [],
   "source": [
    "X_train, X_test, y_train, y_test = train_test_split(X, y, test_size = 0.2, random_state = 42)\n",
    "X_train, X_valid, y_train, y_valid = train_test_split(X_train, y_train, test_size = 0.3, random_state = 42)"
   ]
  },
  {
   "cell_type": "code",
   "execution_count": 9,
   "metadata": {},
   "outputs": [
    {
     "data": {
      "text/plain": [
       "(99, 13)"
      ]
     },
     "execution_count": 9,
     "metadata": {},
     "output_type": "execute_result"
    }
   ],
   "source": [
    "X_train.shape"
   ]
  },
  {
   "cell_type": "code",
   "execution_count": 10,
   "metadata": {},
   "outputs": [],
   "source": [
    "model = Sequential()"
   ]
  },
  {
   "cell_type": "code",
   "execution_count": 11,
   "metadata": {},
   "outputs": [
    {
     "name": "stderr",
     "output_type": "stream",
     "text": [
      "C:\\Users\\dell\\AppData\\Roaming\\Python\\Python312\\site-packages\\keras\\src\\layers\\core\\dense.py:87: UserWarning: Do not pass an `input_shape`/`input_dim` argument to a layer. When using Sequential models, prefer using an `Input(shape)` object as the first layer in the model instead.\n",
      "  super().__init__(activity_regularizer=activity_regularizer, **kwargs)\n"
     ]
    }
   ],
   "source": [
    "model.add( \n",
    "    Dense(\n",
    "        input_dim = 13,\n",
    "        units = 50,\n",
    "        activation = 'relu'\n",
    "    )\n",
    ")"
   ]
  },
  {
   "cell_type": "code",
   "execution_count": 12,
   "metadata": {},
   "outputs": [],
   "source": [
    "model.add(\n",
    "    Dense(\n",
    "        units = 50,\n",
    "        activation = 'relu',\n",
    "    )\n",
    ")"
   ]
  },
  {
   "cell_type": "code",
   "execution_count": 13,
   "metadata": {},
   "outputs": [],
   "source": [
    "model.add(\n",
    "    Dense(\n",
    "        units = 3,\n",
    "        activation = 'softmax',\n",
    "    )\n",
    ")"
   ]
  },
  {
   "cell_type": "code",
   "execution_count": 14,
   "metadata": {},
   "outputs": [
    {
     "data": {
      "text/html": [
       "<pre style=\"white-space:pre;overflow-x:auto;line-height:normal;font-family:Menlo,'DejaVu Sans Mono',consolas,'Courier New',monospace\"><span style=\"font-weight: bold\">Model: \"sequential\"</span>\n",
       "</pre>\n"
      ],
      "text/plain": [
       "\u001b[1mModel: \"sequential\"\u001b[0m\n"
      ]
     },
     "metadata": {},
     "output_type": "display_data"
    },
    {
     "data": {
      "text/html": [
       "<pre style=\"white-space:pre;overflow-x:auto;line-height:normal;font-family:Menlo,'DejaVu Sans Mono',consolas,'Courier New',monospace\">┏━━━━━━━━━━━━━━━━━━━━━━━━━━━━━━━━━┳━━━━━━━━━━━━━━━━━━━━━━━━┳━━━━━━━━━━━━━━━┓\n",
       "┃<span style=\"font-weight: bold\"> Layer (type)                    </span>┃<span style=\"font-weight: bold\"> Output Shape           </span>┃<span style=\"font-weight: bold\">       Param # </span>┃\n",
       "┡━━━━━━━━━━━━━━━━━━━━━━━━━━━━━━━━━╇━━━━━━━━━━━━━━━━━━━━━━━━╇━━━━━━━━━━━━━━━┩\n",
       "│ dense (<span style=\"color: #0087ff; text-decoration-color: #0087ff\">Dense</span>)                   │ (<span style=\"color: #00d7ff; text-decoration-color: #00d7ff\">None</span>, <span style=\"color: #00af00; text-decoration-color: #00af00\">50</span>)             │           <span style=\"color: #00af00; text-decoration-color: #00af00\">700</span> │\n",
       "├─────────────────────────────────┼────────────────────────┼───────────────┤\n",
       "│ dense_1 (<span style=\"color: #0087ff; text-decoration-color: #0087ff\">Dense</span>)                 │ (<span style=\"color: #00d7ff; text-decoration-color: #00d7ff\">None</span>, <span style=\"color: #00af00; text-decoration-color: #00af00\">50</span>)             │         <span style=\"color: #00af00; text-decoration-color: #00af00\">2,550</span> │\n",
       "├─────────────────────────────────┼────────────────────────┼───────────────┤\n",
       "│ dense_2 (<span style=\"color: #0087ff; text-decoration-color: #0087ff\">Dense</span>)                 │ (<span style=\"color: #00d7ff; text-decoration-color: #00d7ff\">None</span>, <span style=\"color: #00af00; text-decoration-color: #00af00\">3</span>)              │           <span style=\"color: #00af00; text-decoration-color: #00af00\">153</span> │\n",
       "└─────────────────────────────────┴────────────────────────┴───────────────┘\n",
       "</pre>\n"
      ],
      "text/plain": [
       "┏━━━━━━━━━━━━━━━━━━━━━━━━━━━━━━━━━┳━━━━━━━━━━━━━━━━━━━━━━━━┳━━━━━━━━━━━━━━━┓\n",
       "┃\u001b[1m \u001b[0m\u001b[1mLayer (type)                   \u001b[0m\u001b[1m \u001b[0m┃\u001b[1m \u001b[0m\u001b[1mOutput Shape          \u001b[0m\u001b[1m \u001b[0m┃\u001b[1m \u001b[0m\u001b[1m      Param #\u001b[0m\u001b[1m \u001b[0m┃\n",
       "┡━━━━━━━━━━━━━━━━━━━━━━━━━━━━━━━━━╇━━━━━━━━━━━━━━━━━━━━━━━━╇━━━━━━━━━━━━━━━┩\n",
       "│ dense (\u001b[38;5;33mDense\u001b[0m)                   │ (\u001b[38;5;45mNone\u001b[0m, \u001b[38;5;34m50\u001b[0m)             │           \u001b[38;5;34m700\u001b[0m │\n",
       "├─────────────────────────────────┼────────────────────────┼───────────────┤\n",
       "│ dense_1 (\u001b[38;5;33mDense\u001b[0m)                 │ (\u001b[38;5;45mNone\u001b[0m, \u001b[38;5;34m50\u001b[0m)             │         \u001b[38;5;34m2,550\u001b[0m │\n",
       "├─────────────────────────────────┼────────────────────────┼───────────────┤\n",
       "│ dense_2 (\u001b[38;5;33mDense\u001b[0m)                 │ (\u001b[38;5;45mNone\u001b[0m, \u001b[38;5;34m3\u001b[0m)              │           \u001b[38;5;34m153\u001b[0m │\n",
       "└─────────────────────────────────┴────────────────────────┴───────────────┘\n"
      ]
     },
     "metadata": {},
     "output_type": "display_data"
    },
    {
     "data": {
      "text/html": [
       "<pre style=\"white-space:pre;overflow-x:auto;line-height:normal;font-family:Menlo,'DejaVu Sans Mono',consolas,'Courier New',monospace\"><span style=\"font-weight: bold\"> Total params: </span><span style=\"color: #00af00; text-decoration-color: #00af00\">3,403</span> (13.29 KB)\n",
       "</pre>\n"
      ],
      "text/plain": [
       "\u001b[1m Total params: \u001b[0m\u001b[38;5;34m3,403\u001b[0m (13.29 KB)\n"
      ]
     },
     "metadata": {},
     "output_type": "display_data"
    },
    {
     "data": {
      "text/html": [
       "<pre style=\"white-space:pre;overflow-x:auto;line-height:normal;font-family:Menlo,'DejaVu Sans Mono',consolas,'Courier New',monospace\"><span style=\"font-weight: bold\"> Trainable params: </span><span style=\"color: #00af00; text-decoration-color: #00af00\">3,403</span> (13.29 KB)\n",
       "</pre>\n"
      ],
      "text/plain": [
       "\u001b[1m Trainable params: \u001b[0m\u001b[38;5;34m3,403\u001b[0m (13.29 KB)\n"
      ]
     },
     "metadata": {},
     "output_type": "display_data"
    },
    {
     "data": {
      "text/html": [
       "<pre style=\"white-space:pre;overflow-x:auto;line-height:normal;font-family:Menlo,'DejaVu Sans Mono',consolas,'Courier New',monospace\"><span style=\"font-weight: bold\"> Non-trainable params: </span><span style=\"color: #00af00; text-decoration-color: #00af00\">0</span> (0.00 B)\n",
       "</pre>\n"
      ],
      "text/plain": [
       "\u001b[1m Non-trainable params: \u001b[0m\u001b[38;5;34m0\u001b[0m (0.00 B)\n"
      ]
     },
     "metadata": {},
     "output_type": "display_data"
    }
   ],
   "source": [
    "model.summary()"
   ]
  },
  {
   "cell_type": "code",
   "execution_count": 15,
   "metadata": {},
   "outputs": [],
   "source": [
    "model.compile(optimizer = \"adamax\", loss = 'categorical_crossentropy', metrics = ['accuracy'])"
   ]
  },
  {
   "cell_type": "code",
   "execution_count": 16,
   "metadata": {},
   "outputs": [
    {
     "name": "stdout",
     "output_type": "stream",
     "text": [
      "Epoch 1/50\n",
      "\u001b[1m4/4\u001b[0m \u001b[32m━━━━━━━━━━━━━━━━━━━━\u001b[0m\u001b[37m\u001b[0m \u001b[1m3s\u001b[0m 159ms/step - accuracy: 0.2694 - loss: 195.4976 - val_accuracy: 0.2791 - val_loss: 145.3176\n",
      "Epoch 2/50\n",
      "\u001b[1m4/4\u001b[0m \u001b[32m━━━━━━━━━━━━━━━━━━━━\u001b[0m\u001b[37m\u001b[0m \u001b[1m0s\u001b[0m 27ms/step - accuracy: 0.2704 - loss: 136.2133 - val_accuracy: 0.2791 - val_loss: 85.4862\n",
      "Epoch 3/50\n",
      "\u001b[1m4/4\u001b[0m \u001b[32m━━━━━━━━━━━━━━━━━━━━\u001b[0m\u001b[37m\u001b[0m \u001b[1m0s\u001b[0m 26ms/step - accuracy: 0.2517 - loss: 73.9597 - val_accuracy: 0.2791 - val_loss: 30.0091\n",
      "Epoch 4/50\n",
      "\u001b[1m4/4\u001b[0m \u001b[32m━━━━━━━━━━━━━━━━━━━━\u001b[0m\u001b[37m\u001b[0m \u001b[1m0s\u001b[0m 28ms/step - accuracy: 0.3629 - loss: 26.4478 - val_accuracy: 0.3953 - val_loss: 21.2038\n",
      "Epoch 5/50\n",
      "\u001b[1m4/4\u001b[0m \u001b[32m━━━━━━━━━━━━━━━━━━━━\u001b[0m\u001b[37m\u001b[0m \u001b[1m0s\u001b[0m 27ms/step - accuracy: 0.3308 - loss: 18.0527 - val_accuracy: 0.3256 - val_loss: 15.7158\n",
      "Epoch 6/50\n",
      "\u001b[1m4/4\u001b[0m \u001b[32m━━━━━━━━━━━━━━━━━━━━\u001b[0m\u001b[37m\u001b[0m \u001b[1m0s\u001b[0m 36ms/step - accuracy: 0.2940 - loss: 17.1139 - val_accuracy: 0.3256 - val_loss: 22.6489\n",
      "Epoch 7/50\n",
      "\u001b[1m4/4\u001b[0m \u001b[32m━━━━━━━━━━━━━━━━━━━━\u001b[0m\u001b[37m\u001b[0m \u001b[1m0s\u001b[0m 29ms/step - accuracy: 0.3440 - loss: 20.7728 - val_accuracy: 0.3256 - val_loss: 20.1881\n",
      "Epoch 8/50\n",
      "\u001b[1m4/4\u001b[0m \u001b[32m━━━━━━━━━━━━━━━━━━━━\u001b[0m\u001b[37m\u001b[0m \u001b[1m0s\u001b[0m 30ms/step - accuracy: 0.3232 - loss: 18.6216 - val_accuracy: 0.3256 - val_loss: 11.7493\n",
      "Epoch 9/50\n",
      "\u001b[1m4/4\u001b[0m \u001b[32m━━━━━━━━━━━━━━━━━━━━\u001b[0m\u001b[37m\u001b[0m \u001b[1m0s\u001b[0m 28ms/step - accuracy: 0.2257 - loss: 10.7456 - val_accuracy: 0.3488 - val_loss: 11.0031\n",
      "Epoch 10/50\n",
      "\u001b[1m4/4\u001b[0m \u001b[32m━━━━━━━━━━━━━━━━━━━━\u001b[0m\u001b[37m\u001b[0m \u001b[1m0s\u001b[0m 27ms/step - accuracy: 0.3208 - loss: 9.7353 - val_accuracy: 0.0465 - val_loss: 4.6647\n",
      "Epoch 11/50\n",
      "\u001b[1m4/4\u001b[0m \u001b[32m━━━━━━━━━━━━━━━━━━━━\u001b[0m\u001b[37m\u001b[0m \u001b[1m0s\u001b[0m 31ms/step - accuracy: 0.1369 - loss: 5.3089 - val_accuracy: 0.1163 - val_loss: 7.9940\n",
      "Epoch 12/50\n",
      "\u001b[1m4/4\u001b[0m \u001b[32m━━━━━━━━━━━━━━━━━━━━\u001b[0m\u001b[37m\u001b[0m \u001b[1m0s\u001b[0m 31ms/step - accuracy: 0.1243 - loss: 7.1807 - val_accuracy: 0.1860 - val_loss: 6.6021\n",
      "Epoch 13/50\n",
      "\u001b[1m4/4\u001b[0m \u001b[32m━━━━━━━━━━━━━━━━━━━━\u001b[0m\u001b[37m\u001b[0m \u001b[1m0s\u001b[0m 28ms/step - accuracy: 0.1846 - loss: 6.3537 - val_accuracy: 0.3023 - val_loss: 4.0054\n",
      "Epoch 14/50\n",
      "\u001b[1m4/4\u001b[0m \u001b[32m━━━━━━━━━━━━━━━━━━━━\u001b[0m\u001b[37m\u001b[0m \u001b[1m0s\u001b[0m 29ms/step - accuracy: 0.1307 - loss: 4.1637 - val_accuracy: 0.2558 - val_loss: 3.7008\n",
      "Epoch 15/50\n",
      "\u001b[1m4/4\u001b[0m \u001b[32m━━━━━━━━━━━━━━━━━━━━\u001b[0m\u001b[37m\u001b[0m \u001b[1m0s\u001b[0m 27ms/step - accuracy: 0.2391 - loss: 3.0650 - val_accuracy: 0.1395 - val_loss: 3.1120\n",
      "Epoch 16/50\n",
      "\u001b[1m4/4\u001b[0m \u001b[32m━━━━━━━━━━━━━━━━━━━━\u001b[0m\u001b[37m\u001b[0m \u001b[1m0s\u001b[0m 30ms/step - accuracy: 0.1822 - loss: 2.9459 - val_accuracy: 0.2093 - val_loss: 1.8281\n",
      "Epoch 17/50\n",
      "\u001b[1m4/4\u001b[0m \u001b[32m━━━━━━━━━━━━━━━━━━━━\u001b[0m\u001b[37m\u001b[0m \u001b[1m0s\u001b[0m 31ms/step - accuracy: 0.1774 - loss: 2.0859 - val_accuracy: 0.2326 - val_loss: 1.9496\n",
      "Epoch 18/50\n",
      "\u001b[1m4/4\u001b[0m \u001b[32m━━━━━━━━━━━━━━━━━━━━\u001b[0m\u001b[37m\u001b[0m \u001b[1m0s\u001b[0m 29ms/step - accuracy: 0.3538 - loss: 1.5943 - val_accuracy: 0.1860 - val_loss: 1.7657\n",
      "Epoch 19/50\n",
      "\u001b[1m4/4\u001b[0m \u001b[32m━━━━━━━━━━━━━━━━━━━━\u001b[0m\u001b[37m\u001b[0m \u001b[1m0s\u001b[0m 29ms/step - accuracy: 0.2408 - loss: 1.6282 - val_accuracy: 0.3023 - val_loss: 1.3570\n",
      "Epoch 20/50\n",
      "\u001b[1m4/4\u001b[0m \u001b[32m━━━━━━━━━━━━━━━━━━━━\u001b[0m\u001b[37m\u001b[0m \u001b[1m0s\u001b[0m 29ms/step - accuracy: 0.3809 - loss: 1.5893 - val_accuracy: 0.5116 - val_loss: 1.4163\n",
      "Epoch 21/50\n",
      "\u001b[1m4/4\u001b[0m \u001b[32m━━━━━━━━━━━━━━━━━━━━\u001b[0m\u001b[37m\u001b[0m \u001b[1m0s\u001b[0m 32ms/step - accuracy: 0.4589 - loss: 1.2669 - val_accuracy: 0.3256 - val_loss: 1.4321\n",
      "Epoch 22/50\n",
      "\u001b[1m4/4\u001b[0m \u001b[32m━━━━━━━━━━━━━━━━━━━━\u001b[0m\u001b[37m\u001b[0m \u001b[1m0s\u001b[0m 28ms/step - accuracy: 0.4710 - loss: 1.2541 - val_accuracy: 0.5349 - val_loss: 1.0986\n",
      "Epoch 23/50\n",
      "\u001b[1m4/4\u001b[0m \u001b[32m━━━━━━━━━━━━━━━━━━━━\u001b[0m\u001b[37m\u001b[0m \u001b[1m0s\u001b[0m 30ms/step - accuracy: 0.5690 - loss: 1.0836 - val_accuracy: 0.4884 - val_loss: 0.9480\n",
      "Epoch 24/50\n",
      "\u001b[1m4/4\u001b[0m \u001b[32m━━━━━━━━━━━━━━━━━━━━\u001b[0m\u001b[37m\u001b[0m \u001b[1m0s\u001b[0m 31ms/step - accuracy: 0.4650 - loss: 1.0703 - val_accuracy: 0.4884 - val_loss: 1.1738\n",
      "Epoch 25/50\n",
      "\u001b[1m4/4\u001b[0m \u001b[32m━━━━━━━━━━━━━━━━━━━━\u001b[0m\u001b[37m\u001b[0m \u001b[1m0s\u001b[0m 30ms/step - accuracy: 0.5020 - loss: 1.3079 - val_accuracy: 0.6047 - val_loss: 1.3908\n",
      "Epoch 26/50\n",
      "\u001b[1m4/4\u001b[0m \u001b[32m━━━━━━━━━━━━━━━━━━━━\u001b[0m\u001b[37m\u001b[0m \u001b[1m0s\u001b[0m 39ms/step - accuracy: 0.5937 - loss: 1.3081 - val_accuracy: 0.4419 - val_loss: 0.9529\n",
      "Epoch 27/50\n",
      "\u001b[1m4/4\u001b[0m \u001b[32m━━━━━━━━━━━━━━━━━━━━\u001b[0m\u001b[37m\u001b[0m \u001b[1m0s\u001b[0m 29ms/step - accuracy: 0.4084 - loss: 1.1146 - val_accuracy: 0.6512 - val_loss: 0.7493\n",
      "Epoch 28/50\n",
      "\u001b[1m4/4\u001b[0m \u001b[32m━━━━━━━━━━━━━━━━━━━━\u001b[0m\u001b[37m\u001b[0m \u001b[1m0s\u001b[0m 36ms/step - accuracy: 0.5763 - loss: 0.8507 - val_accuracy: 0.6047 - val_loss: 0.7449\n",
      "Epoch 29/50\n",
      "\u001b[1m4/4\u001b[0m \u001b[32m━━━━━━━━━━━━━━━━━━━━\u001b[0m\u001b[37m\u001b[0m \u001b[1m0s\u001b[0m 32ms/step - accuracy: 0.6225 - loss: 0.8118 - val_accuracy: 0.6279 - val_loss: 0.7767\n",
      "Epoch 30/50\n",
      "\u001b[1m4/4\u001b[0m \u001b[32m━━━━━━━━━━━━━━━━━━━━\u001b[0m\u001b[37m\u001b[0m \u001b[1m0s\u001b[0m 29ms/step - accuracy: 0.6060 - loss: 0.8161 - val_accuracy: 0.6744 - val_loss: 0.6725\n",
      "Epoch 31/50\n",
      "\u001b[1m4/4\u001b[0m \u001b[32m━━━━━━━━━━━━━━━━━━━━\u001b[0m\u001b[37m\u001b[0m \u001b[1m0s\u001b[0m 64ms/step - accuracy: 0.6677 - loss: 0.6965 - val_accuracy: 0.6279 - val_loss: 0.8329\n",
      "Epoch 32/50\n",
      "\u001b[1m4/4\u001b[0m \u001b[32m━━━━━━━━━━━━━━━━━━━━\u001b[0m\u001b[37m\u001b[0m \u001b[1m1s\u001b[0m 50ms/step - accuracy: 0.5371 - loss: 0.9470 - val_accuracy: 0.5116 - val_loss: 0.9586\n",
      "Epoch 33/50\n",
      "\u001b[1m4/4\u001b[0m \u001b[32m━━━━━━━━━━━━━━━━━━━━\u001b[0m\u001b[37m\u001b[0m \u001b[1m0s\u001b[0m 43ms/step - accuracy: 0.5824 - loss: 0.9033 - val_accuracy: 0.6744 - val_loss: 0.6512\n",
      "Epoch 34/50\n",
      "\u001b[1m4/4\u001b[0m \u001b[32m━━━━━━━━━━━━━━━━━━━━\u001b[0m\u001b[37m\u001b[0m \u001b[1m0s\u001b[0m 29ms/step - accuracy: 0.5739 - loss: 0.7408 - val_accuracy: 0.6744 - val_loss: 0.6551\n",
      "Epoch 35/50\n",
      "\u001b[1m4/4\u001b[0m \u001b[32m━━━━━━━━━━━━━━━━━━━━\u001b[0m\u001b[37m\u001b[0m \u001b[1m0s\u001b[0m 28ms/step - accuracy: 0.6215 - loss: 0.7579 - val_accuracy: 0.6047 - val_loss: 0.8196\n",
      "Epoch 36/50\n",
      "\u001b[1m4/4\u001b[0m \u001b[32m━━━━━━━━━━━━━━━━━━━━\u001b[0m\u001b[37m\u001b[0m \u001b[1m0s\u001b[0m 28ms/step - accuracy: 0.5494 - loss: 0.8495 - val_accuracy: 0.6279 - val_loss: 0.8727\n",
      "Epoch 37/50\n",
      "\u001b[1m4/4\u001b[0m \u001b[32m━━━━━━━━━━━━━━━━━━━━\u001b[0m\u001b[37m\u001b[0m \u001b[1m0s\u001b[0m 34ms/step - accuracy: 0.6066 - loss: 0.8985 - val_accuracy: 0.7209 - val_loss: 0.6473\n",
      "Epoch 38/50\n",
      "\u001b[1m4/4\u001b[0m \u001b[32m━━━━━━━━━━━━━━━━━━━━\u001b[0m\u001b[37m\u001b[0m \u001b[1m0s\u001b[0m 30ms/step - accuracy: 0.5945 - loss: 0.8014 - val_accuracy: 0.6744 - val_loss: 0.6767\n",
      "Epoch 39/50\n",
      "\u001b[1m4/4\u001b[0m \u001b[32m━━━━━━━━━━━━━━━━━━━━\u001b[0m\u001b[37m\u001b[0m \u001b[1m0s\u001b[0m 31ms/step - accuracy: 0.5997 - loss: 0.7407 - val_accuracy: 0.6279 - val_loss: 0.8008\n",
      "Epoch 40/50\n",
      "\u001b[1m4/4\u001b[0m \u001b[32m━━━━━━━━━━━━━━━━━━━━\u001b[0m\u001b[37m\u001b[0m \u001b[1m0s\u001b[0m 29ms/step - accuracy: 0.5338 - loss: 1.0140 - val_accuracy: 0.6047 - val_loss: 0.9121\n",
      "Epoch 41/50\n",
      "\u001b[1m4/4\u001b[0m \u001b[32m━━━━━━━━━━━━━━━━━━━━\u001b[0m\u001b[37m\u001b[0m \u001b[1m0s\u001b[0m 26ms/step - accuracy: 0.5721 - loss: 0.9611 - val_accuracy: 0.6279 - val_loss: 1.1167\n",
      "Epoch 42/50\n",
      "\u001b[1m4/4\u001b[0m \u001b[32m━━━━━━━━━━━━━━━━━━━━\u001b[0m\u001b[37m\u001b[0m \u001b[1m0s\u001b[0m 30ms/step - accuracy: 0.5648 - loss: 1.1771 - val_accuracy: 0.6744 - val_loss: 0.7319\n",
      "Epoch 43/50\n",
      "\u001b[1m4/4\u001b[0m \u001b[32m━━━━━━━━━━━━━━━━━━━━\u001b[0m\u001b[37m\u001b[0m \u001b[1m0s\u001b[0m 30ms/step - accuracy: 0.6156 - loss: 0.9302 - val_accuracy: 0.6744 - val_loss: 0.8140\n",
      "Epoch 44/50\n",
      "\u001b[1m4/4\u001b[0m \u001b[32m━━━━━━━━━━━━━━━━━━━━\u001b[0m\u001b[37m\u001b[0m \u001b[1m0s\u001b[0m 29ms/step - accuracy: 0.5988 - loss: 0.8871 - val_accuracy: 0.6512 - val_loss: 0.7199\n",
      "Epoch 45/50\n",
      "\u001b[1m4/4\u001b[0m \u001b[32m━━━━━━━━━━━━━━━━━━━━\u001b[0m\u001b[37m\u001b[0m \u001b[1m0s\u001b[0m 30ms/step - accuracy: 0.5893 - loss: 0.7357 - val_accuracy: 0.7442 - val_loss: 0.6500\n",
      "Epoch 46/50\n",
      "\u001b[1m4/4\u001b[0m \u001b[32m━━━━━━━━━━━━━━━━━━━━\u001b[0m\u001b[37m\u001b[0m \u001b[1m0s\u001b[0m 29ms/step - accuracy: 0.6504 - loss: 0.7536 - val_accuracy: 0.7209 - val_loss: 0.6302\n",
      "Epoch 47/50\n",
      "\u001b[1m4/4\u001b[0m \u001b[32m━━━━━━━━━━━━━━━━━━━━\u001b[0m\u001b[37m\u001b[0m \u001b[1m0s\u001b[0m 31ms/step - accuracy: 0.7163 - loss: 0.6651 - val_accuracy: 0.6744 - val_loss: 0.7165\n",
      "Epoch 48/50\n",
      "\u001b[1m4/4\u001b[0m \u001b[32m━━━━━━━━━━━━━━━━━━━━\u001b[0m\u001b[37m\u001b[0m \u001b[1m0s\u001b[0m 30ms/step - accuracy: 0.5927 - loss: 0.8418 - val_accuracy: 0.6279 - val_loss: 0.7487\n",
      "Epoch 49/50\n",
      "\u001b[1m4/4\u001b[0m \u001b[32m━━━━━━━━━━━━━━━━━━━━\u001b[0m\u001b[37m\u001b[0m \u001b[1m0s\u001b[0m 32ms/step - accuracy: 0.6350 - loss: 0.7017 - val_accuracy: 0.6512 - val_loss: 0.7094\n",
      "Epoch 50/50\n",
      "\u001b[1m4/4\u001b[0m \u001b[32m━━━━━━━━━━━━━━━━━━━━\u001b[0m\u001b[37m\u001b[0m \u001b[1m0s\u001b[0m 30ms/step - accuracy: 0.6555 - loss: 0.7498 - val_accuracy: 0.6977 - val_loss: 0.6519\n"
     ]
    },
    {
     "data": {
      "text/plain": [
       "<keras.src.callbacks.history.History at 0x22f744781a0>"
      ]
     },
     "execution_count": 16,
     "metadata": {},
     "output_type": "execute_result"
    }
   ],
   "source": [
    "model.fit(X_train, y_train, epochs = 50, validation_data=(X_valid, y_valid))"
   ]
  },
  {
   "cell_type": "code",
   "execution_count": 17,
   "metadata": {},
   "outputs": [
    {
     "name": "stdout",
     "output_type": "stream",
     "text": [
      "\u001b[1m2/2\u001b[0m \u001b[32m━━━━━━━━━━━━━━━━━━━━\u001b[0m\u001b[37m\u001b[0m \u001b[1m0s\u001b[0m 13ms/step - accuracy: 0.7789 - loss: 0.5685 \n"
     ]
    },
    {
     "data": {
      "text/plain": [
       "[0.5641238689422607, 0.7777777910232544]"
      ]
     },
     "execution_count": 17,
     "metadata": {},
     "output_type": "execute_result"
    }
   ],
   "source": [
    "model.evaluate(X_test, y_test)"
   ]
  },
  {
   "cell_type": "code",
   "execution_count": 18,
   "metadata": {},
   "outputs": [
    {
     "name": "stdout",
     "output_type": "stream",
     "text": [
      "\u001b[1m6/6\u001b[0m \u001b[32m━━━━━━━━━━━━━━━━━━━━\u001b[0m\u001b[37m\u001b[0m \u001b[1m0s\u001b[0m 17ms/step\n"
     ]
    },
    {
     "data": {
      "text/plain": [
       "array([[9.13245559e-01, 5.61199933e-02, 3.06343678e-02],\n",
       "       [9.90975320e-01, 5.20929508e-03, 3.81536153e-03],\n",
       "       [9.98172522e-01, 2.21428447e-04, 1.60604436e-03],\n",
       "       [9.99534965e-01, 2.39224446e-05, 4.41088632e-04],\n",
       "       [1.63683772e-01, 5.07996261e-01, 3.28320026e-01],\n",
       "       [9.99540329e-01, 4.37099297e-05, 4.15931310e-04],\n",
       "       [9.98983920e-01, 1.29798704e-04, 8.86275724e-04],\n",
       "       [9.97522414e-01, 5.97852748e-04, 1.87972898e-03],\n",
       "       [9.92644787e-01, 3.85229290e-03, 3.50292563e-03],\n",
       "       [9.91260588e-01, 2.57903826e-03, 6.16036681e-03],\n",
       "       [9.99578893e-01, 1.15868443e-05, 4.09517408e-04],\n",
       "       [9.98691499e-01, 1.23585414e-04, 1.18498318e-03],\n",
       "       [9.98718739e-01, 6.53836032e-05, 1.21588795e-03],\n",
       "       [9.98379469e-01, 6.56104938e-04, 9.64392384e-04],\n",
       "       [9.99717772e-01, 1.16220990e-05, 2.70509772e-04],\n",
       "       [9.98749256e-01, 1.65760954e-04, 1.08501152e-03],\n",
       "       [9.96846974e-01, 5.36243955e-04, 2.61666812e-03],\n",
       "       [9.84204710e-01, 3.51290265e-03, 1.22823948e-02],\n",
       "       [9.99684691e-01, 2.99885482e-06, 3.12353368e-04],\n",
       "       [5.38783133e-01, 3.39728504e-01, 1.21488400e-01],\n",
       "       [1.20957650e-01, 7.48963475e-01, 1.30078867e-01],\n",
       "       [6.45328462e-01, 1.68154001e-01, 1.86517581e-01],\n",
       "       [9.88513172e-01, 4.29253932e-03, 7.19419261e-03],\n",
       "       [9.88986254e-01, 2.53585842e-03, 8.47791042e-03],\n",
       "       [8.92214894e-01, 3.79206687e-02, 6.98644817e-02],\n",
       "       [2.94206709e-01, 2.58845329e-01, 4.46947902e-01],\n",
       "       [9.98009264e-01, 2.52548693e-04, 1.73814618e-03],\n",
       "       [9.98719931e-01, 9.91134730e-05, 1.18105474e-03],\n",
       "       [8.84615779e-01, 4.82270569e-02, 6.71571866e-02],\n",
       "       [9.92305577e-01, 2.76254001e-03, 4.93182847e-03],\n",
       "       [9.98491406e-01, 6.19219863e-05, 1.44673861e-03],\n",
       "       [9.99405980e-01, 9.97016014e-06, 5.83969057e-04],\n",
       "       [9.68792796e-01, 1.39951091e-02, 1.72121767e-02],\n",
       "       [9.82732177e-01, 5.21124853e-03, 1.20565770e-02],\n",
       "       [9.85196948e-01, 4.04678518e-03, 1.07562253e-02],\n",
       "       [9.40308332e-01, 1.57055501e-02, 4.39861938e-02],\n",
       "       [7.46196270e-01, 1.63893789e-01, 8.99099186e-02],\n",
       "       [9.95265722e-01, 9.09255934e-04, 3.82501609e-03],\n",
       "       [9.87963200e-01, 4.82524000e-03, 7.21161580e-03],\n",
       "       [6.73939362e-02, 8.59371841e-01, 7.32341707e-02],\n",
       "       [3.35959315e-01, 4.96352762e-01, 1.67687953e-01],\n",
       "       [9.95102763e-01, 1.06558192e-03, 3.83163267e-03],\n",
       "       [9.95027721e-01, 1.72131811e-03, 3.25094908e-03],\n",
       "       [2.94769377e-01, 4.79576260e-01, 2.25654319e-01],\n",
       "       [8.53727460e-01, 7.52810985e-02, 7.09914342e-02],\n",
       "       [9.82910693e-01, 4.94449260e-03, 1.21448180e-02],\n",
       "       [9.92808819e-01, 2.77516083e-03, 4.41602338e-03],\n",
       "       [9.77536917e-01, 9.51967202e-03, 1.29433321e-02],\n",
       "       [9.88294363e-01, 2.97505688e-03, 8.73064529e-03],\n",
       "       [9.98391449e-01, 2.10739119e-04, 1.39769691e-03],\n",
       "       [9.98052120e-01, 4.19538061e-04, 1.52836717e-03],\n",
       "       [9.98602092e-01, 1.02327998e-04, 1.29554793e-03],\n",
       "       [9.96578634e-01, 1.21979811e-03, 2.20150105e-03],\n",
       "       [9.99266088e-01, 9.29471571e-05, 6.41010702e-04],\n",
       "       [9.56967175e-01, 2.09784284e-02, 2.20544226e-02],\n",
       "       [9.82179701e-01, 3.58765968e-03, 1.42326215e-02],\n",
       "       [8.58388364e-01, 8.63863900e-02, 5.52252121e-02],\n",
       "       [9.98554409e-01, 1.43264260e-04, 1.30222447e-03],\n",
       "       [9.98926580e-01, 1.56590395e-04, 9.16801568e-04],\n",
       "       [5.90621531e-02, 8.73378813e-01, 6.75589964e-02],\n",
       "       [2.07007036e-01, 5.91348112e-01, 2.01644808e-01],\n",
       "       [8.64311215e-03, 8.43517601e-01, 1.47839263e-01],\n",
       "       [2.42986441e-01, 5.38172603e-01, 2.18841031e-01],\n",
       "       [4.01698314e-02, 6.65228546e-01, 2.94601619e-01],\n",
       "       [2.93919840e-03, 9.06561255e-01, 9.04995501e-02],\n",
       "       [3.56819153e-01, 3.73364538e-01, 2.69816339e-01],\n",
       "       [2.43498653e-01, 5.68488657e-01, 1.88012689e-01],\n",
       "       [2.53430963e-01, 3.52342874e-01, 3.94226193e-01],\n",
       "       [2.32652828e-01, 5.88532805e-01, 1.78814411e-01],\n",
       "       [3.24956491e-03, 9.39039171e-01, 5.77112064e-02],\n",
       "       [8.24152470e-01, 6.13095947e-02, 1.14537902e-01],\n",
       "       [3.91297415e-02, 5.01727402e-01, 4.59142834e-01],\n",
       "       [7.15943128e-02, 4.56266880e-01, 4.72138733e-01],\n",
       "       [4.58394468e-01, 8.76691937e-02, 4.53936279e-01],\n",
       "       [8.92481804e-01, 2.47365572e-02, 8.27816352e-02],\n",
       "       [1.07194157e-02, 8.44844520e-01, 1.44436106e-01],\n",
       "       [1.82874706e-02, 8.46391916e-01, 1.35320589e-01],\n",
       "       [7.63878785e-03, 8.42157662e-01, 1.50203496e-01],\n",
       "       [2.31433287e-02, 9.02139962e-01, 7.47167096e-02],\n",
       "       [2.33271122e-02, 6.26955867e-01, 3.49717051e-01],\n",
       "       [9.25810169e-03, 8.69254649e-01, 1.21487238e-01],\n",
       "       [7.71718502e-01, 9.37136933e-02, 1.34567827e-01],\n",
       "       [5.94852865e-01, 8.51966590e-02, 3.19950521e-01],\n",
       "       [1.52893767e-01, 3.70245248e-01, 4.76860970e-01],\n",
       "       [8.03509057e-02, 6.42797112e-01, 2.76851952e-01],\n",
       "       [1.33497696e-02, 8.35389018e-01, 1.51261270e-01],\n",
       "       [7.61690214e-02, 4.75322843e-01, 4.48508173e-01],\n",
       "       [1.83370739e-01, 1.76783055e-01, 6.39846206e-01],\n",
       "       [6.61733449e-01, 8.59445408e-02, 2.52321929e-01],\n",
       "       [7.54000485e-01, 5.36570363e-02, 1.92342460e-01],\n",
       "       [1.30094483e-01, 5.65406561e-01, 3.04498941e-01],\n",
       "       [5.60616888e-02, 4.84676152e-01, 4.59262162e-01],\n",
       "       [1.65650204e-01, 4.62679774e-01, 3.71670127e-01],\n",
       "       [8.99071433e-03, 8.86214614e-01, 1.04794659e-01],\n",
       "       [6.06654072e-03, 8.63731325e-01, 1.30202115e-01],\n",
       "       [4.14746813e-02, 8.35453510e-01, 1.23071782e-01],\n",
       "       [6.23395154e-03, 7.81269491e-01, 2.12496564e-01],\n",
       "       [4.37116846e-02, 7.85920560e-01, 1.70367748e-01],\n",
       "       [5.88639975e-01, 1.95565194e-01, 2.15794861e-01],\n",
       "       [3.24096680e-02, 7.69501209e-01, 1.98089182e-01],\n",
       "       [5.30734718e-01, 2.69637167e-01, 1.99628130e-01],\n",
       "       [2.03704536e-01, 5.29119670e-01, 2.67175823e-01],\n",
       "       [1.76994316e-02, 6.87807858e-01, 2.94492722e-01],\n",
       "       [3.76604609e-02, 6.74142361e-01, 2.88197190e-01],\n",
       "       [6.66265309e-01, 1.23668678e-01, 2.10065961e-01],\n",
       "       [1.11209927e-02, 7.83712089e-01, 2.05166966e-01],\n",
       "       [2.31366560e-01, 4.28160071e-01, 3.40473324e-01],\n",
       "       [1.17697380e-01, 4.36873645e-01, 4.45429027e-01],\n",
       "       [7.66004482e-03, 8.79503429e-01, 1.12836540e-01],\n",
       "       [5.20217180e-01, 1.97925776e-01, 2.81857014e-01],\n",
       "       [6.97978213e-02, 6.32377803e-01, 2.97824353e-01],\n",
       "       [1.33415172e-02, 7.85988450e-01, 2.00670034e-01],\n",
       "       [9.80987474e-02, 5.13957560e-01, 3.87943715e-01],\n",
       "       [3.80365551e-02, 5.53437352e-01, 4.08526152e-01],\n",
       "       [3.03677395e-02, 5.29313505e-01, 4.40318704e-01],\n",
       "       [4.20141965e-02, 5.36479056e-01, 4.21506673e-01],\n",
       "       [1.24890342e-01, 4.77892399e-01, 3.97217244e-01],\n",
       "       [3.45008285e-03, 8.86880994e-01, 1.09668970e-01],\n",
       "       [2.62317378e-02, 8.09435546e-01, 1.64332658e-01],\n",
       "       [2.87548572e-01, 4.18976396e-01, 2.93475062e-01],\n",
       "       [2.93253511e-01, 3.20223600e-01, 3.86522859e-01],\n",
       "       [7.08694197e-03, 4.17062312e-01, 5.75850666e-01],\n",
       "       [1.04089221e-02, 6.31651640e-01, 3.57939452e-01],\n",
       "       [3.47147770e-02, 6.47504747e-01, 3.17780495e-01],\n",
       "       [5.88611290e-02, 5.22933185e-01, 4.18205708e-01],\n",
       "       [2.87733991e-02, 6.22898340e-01, 3.48328322e-01],\n",
       "       [2.09532436e-02, 6.67963982e-01, 3.11082721e-01],\n",
       "       [3.96129377e-02, 2.31926650e-01, 7.28460431e-01],\n",
       "       [1.97473280e-02, 6.29458368e-01, 3.50794315e-01],\n",
       "       [4.50832009e-01, 1.87038586e-01, 3.62129331e-01],\n",
       "       [1.46929026e-02, 8.44387293e-01, 1.40919775e-01],\n",
       "       [2.65548248e-02, 6.81290746e-01, 2.92154491e-01],\n",
       "       [7.08824471e-02, 3.77395838e-01, 5.51721752e-01],\n",
       "       [6.75850958e-02, 5.22757709e-01, 4.09657240e-01],\n",
       "       [4.81032372e-01, 2.62276083e-01, 2.56691545e-01],\n",
       "       [4.25361037e-01, 2.56543994e-01, 3.18094969e-01],\n",
       "       [6.51212275e-01, 9.81287435e-02, 2.50658959e-01],\n",
       "       [5.19935526e-02, 3.26965064e-01, 6.21041358e-01],\n",
       "       [2.14397937e-01, 4.32404071e-01, 3.53198022e-01],\n",
       "       [8.21777806e-02, 3.65278721e-01, 5.52543581e-01],\n",
       "       [1.41359419e-01, 4.35833067e-01, 4.22807574e-01],\n",
       "       [8.03353369e-01, 5.88142499e-02, 1.37832388e-01],\n",
       "       [4.36956026e-02, 5.06974816e-01, 4.49329555e-01],\n",
       "       [1.24034464e-01, 5.39071023e-01, 3.36894482e-01],\n",
       "       [6.07309997e-01, 1.41334683e-01, 2.51355350e-01],\n",
       "       [7.49444902e-01, 9.04903114e-02, 1.60064712e-01],\n",
       "       [5.15753105e-02, 6.27558887e-01, 3.20865780e-01],\n",
       "       [3.70403111e-01, 1.69957250e-01, 4.59639639e-01],\n",
       "       [3.20041239e-01, 2.17265636e-01, 4.62693125e-01],\n",
       "       [1.57082248e-02, 5.91388285e-01, 3.92903477e-01],\n",
       "       [3.14839510e-03, 6.92504048e-01, 3.04347575e-01],\n",
       "       [5.86061412e-03, 5.81969440e-01, 4.12169933e-01],\n",
       "       [3.63148889e-03, 7.01560259e-01, 2.94808269e-01],\n",
       "       [2.83795178e-01, 3.22665870e-01, 3.93538922e-01],\n",
       "       [1.22170269e-01, 4.61590201e-01, 4.16239589e-01],\n",
       "       [5.68671584e-01, 1.01359218e-01, 3.29969138e-01],\n",
       "       [5.56032881e-02, 5.60122788e-01, 3.84273916e-01],\n",
       "       [7.91995287e-01, 1.09847691e-02, 1.97019920e-01],\n",
       "       [1.94642067e-01, 1.53271332e-01, 6.52086556e-01],\n",
       "       [2.52402931e-01, 1.68353528e-01, 5.79243481e-01],\n",
       "       [1.05809554e-01, 3.45244944e-01, 5.48945546e-01],\n",
       "       [1.45604998e-01, 5.18100560e-01, 3.36294442e-01],\n",
       "       [3.94471437e-02, 5.44281065e-01, 4.16271776e-01],\n",
       "       [1.61722362e-01, 5.39008260e-01, 2.99269438e-01],\n",
       "       [2.35472128e-01, 2.48598114e-01, 5.15929759e-01],\n",
       "       [1.06531918e-01, 4.00331706e-01, 4.93136376e-01],\n",
       "       [1.20822132e-01, 2.88729310e-01, 5.90448618e-01],\n",
       "       [5.02003968e-01, 1.30343527e-01, 3.67652446e-01],\n",
       "       [3.29310656e-01, 1.51800111e-01, 5.18889308e-01],\n",
       "       [5.27743511e-02, 3.12659889e-01, 6.34565651e-01],\n",
       "       [4.24135551e-02, 6.12888753e-01, 3.44697654e-01],\n",
       "       [5.18112406e-02, 4.62781459e-01, 4.85407233e-01],\n",
       "       [3.54053229e-01, 2.59535313e-01, 3.86411548e-01],\n",
       "       [5.90846241e-01, 1.31391779e-01, 2.77761966e-01],\n",
       "       [4.39863563e-01, 1.52885094e-01, 4.07251358e-01],\n",
       "       [3.30814183e-01, 2.75304884e-01, 3.93880963e-01],\n",
       "       [3.28653872e-01, 2.98932433e-01, 3.72413665e-01],\n",
       "       [7.74503648e-02, 3.05642784e-01, 6.16906881e-01]], dtype=float32)"
      ]
     },
     "execution_count": 18,
     "metadata": {},
     "output_type": "execute_result"
    }
   ],
   "source": [
    "model.predict(X)"
   ]
  },
  {
   "cell_type": "code",
   "execution_count": null,
   "metadata": {},
   "outputs": [],
   "source": []
  },
  {
   "cell_type": "code",
   "execution_count": null,
   "metadata": {},
   "outputs": [],
   "source": []
  },
  {
   "cell_type": "code",
   "execution_count": null,
   "metadata": {},
   "outputs": [],
   "source": []
  }
 ],
 "metadata": {
  "kernelspec": {
   "display_name": "Python 3",
   "language": "python",
   "name": "python3"
  },
  "language_info": {
   "codemirror_mode": {
    "name": "ipython",
    "version": 3
   },
   "file_extension": ".py",
   "mimetype": "text/x-python",
   "name": "python",
   "nbconvert_exporter": "python",
   "pygments_lexer": "ipython3",
   "version": "3.12.3"
  }
 },
 "nbformat": 4,
 "nbformat_minor": 2
}
