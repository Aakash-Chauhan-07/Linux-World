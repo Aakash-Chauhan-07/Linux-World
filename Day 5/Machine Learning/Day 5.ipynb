{
 "cells": [
  {
   "cell_type": "markdown",
   "metadata": {},
   "source": [
    "**Date - May 21, 2024**"
   ]
  },
  {
   "cell_type": "markdown",
   "metadata": {},
   "source": [
    "hrs,marks\n",
    "\n",
    "    2,20\n",
    "    4,40\n",
    "    7,70\n",
    "\n",
    "\n",
    "vimal = model = exp\n",
    "\n",
    "5 hrs --> 90\n",
    "\n",
    "pred = y_pred = 90\n",
    "actual = y_actual = 50\n",
    "\n",
    "distance = 90 - 50 = 40 = loss (Here, subtraction is loss function (y_pred - y_actual))"
   ]
  },
  {
   "cell_type": "code",
   "execution_count": null,
   "metadata": {},
   "outputs": [],
   "source": []
  }
 ],
 "metadata": {
  "kernelspec": {
   "display_name": "Python 3",
   "language": "python",
   "name": "python3"
  },
  "language_info": {
   "name": "python",
   "version": "3.12.3"
  }
 },
 "nbformat": 4,
 "nbformat_minor": 2
}
