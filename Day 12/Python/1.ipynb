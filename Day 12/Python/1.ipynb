{
 "cells": [
  {
   "cell_type": "code",
   "execution_count": 1,
   "metadata": {},
   "outputs": [],
   "source": [
    "import cv2\n",
    "from cvzone.HandTrackingModule import HandDetector"
   ]
  },
  {
   "cell_type": "code",
   "execution_count": 24,
   "metadata": {},
   "outputs": [],
   "source": [
    "cap = cv2.VideoCapture(0)"
   ]
  },
  {
   "cell_type": "code",
   "execution_count": 14,
   "metadata": {},
   "outputs": [],
   "source": [
    "status, photo = cap.read()"
   ]
  },
  {
   "cell_type": "code",
   "execution_count": 15,
   "metadata": {},
   "outputs": [],
   "source": [
    "cv2.imshow('hi', photo)\n",
    "cv2.waitKey()\n",
    "cv2.destroyAllWindows()"
   ]
  },
  {
   "cell_type": "code",
   "execution_count": 16,
   "metadata": {},
   "outputs": [],
   "source": [
    "detector = HandDetector()"
   ]
  },
  {
   "cell_type": "code",
   "execution_count": 17,
   "metadata": {},
   "outputs": [
    {
     "name": "stderr",
     "output_type": "stream",
     "text": [
      "C:\\Users\\dell\\AppData\\Roaming\\Python\\Python312\\site-packages\\google\\protobuf\\symbol_database.py:55: UserWarning: SymbolDatabase.GetPrototype() is deprecated. Please use message_factory.GetMessageClass() instead. SymbolDatabase.GetPrototype() will be removed soon.\n",
      "  warnings.warn('SymbolDatabase.GetPrototype() is deprecated. Please '\n"
     ]
    }
   ],
   "source": [
    "findhand = detector.findHands(photo)"
   ]
  },
  {
   "cell_type": "code",
   "execution_count": 18,
   "metadata": {},
   "outputs": [
    {
     "data": {
      "text/plain": [
       "([{'lmList': [[271, 419, 0],\n",
       "    [301, 407, -21],\n",
       "    [314, 383, -32],\n",
       "    [298, 360, -42],\n",
       "    [277, 344, -51],\n",
       "    [306, 330, -19],\n",
       "    [320, 289, -35],\n",
       "    [329, 265, -45],\n",
       "    [334, 243, -52],\n",
       "    [281, 326, -20],\n",
       "    [277, 281, -37],\n",
       "    [273, 253, -49],\n",
       "    [270, 228, -57],\n",
       "    [259, 336, -22],\n",
       "    [252, 301, -45],\n",
       "    [262, 321, -51],\n",
       "    [271, 341, -49],\n",
       "    [240, 356, -26],\n",
       "    [235, 335, -48],\n",
       "    [244, 341, -53],\n",
       "    [254, 351, -52]],\n",
       "   'bbox': (235, 228, 99, 191),\n",
       "   'center': (284, 323),\n",
       "   'type': 'Right'}],\n",
       " array([[[ 51,  40,  26],\n",
       "         [ 51,  41,  26],\n",
       "         [ 54,  45,  28],\n",
       "         ...,\n",
       "         [106,  71,  82],\n",
       "         [107,  71,  81],\n",
       "         [112,  74,  84]],\n",
       " \n",
       "        [[ 62,  48,  36],\n",
       "         [ 59,  45,  33],\n",
       "         [ 55,  42,  28],\n",
       "         ...,\n",
       "         [105,  70,  81],\n",
       "         [107,  71,  81],\n",
       "         [111,  74,  84]],\n",
       " \n",
       "        [[ 47,  28,  14],\n",
       "         [ 49,  30,  16],\n",
       "         [ 52,  33,  18],\n",
       "         ...,\n",
       "         [105,  69,  82],\n",
       "         [106,  71,  82],\n",
       "         [110,  74,  84]],\n",
       " \n",
       "        ...,\n",
       " \n",
       "        [[128,  96,  60],\n",
       "         [127,  95,  59],\n",
       "         [126,  95,  57],\n",
       "         ...,\n",
       "         [ 59,  29,   8],\n",
       "         [ 59,  29,   8],\n",
       "         [ 59,  29,   8]],\n",
       " \n",
       "        [[127,  97,  60],\n",
       "         [126,  96,  58],\n",
       "         [125,  95,  57],\n",
       "         ...,\n",
       "         [ 58,  28,   7],\n",
       "         [ 58,  28,   7],\n",
       "         [ 59,  29,   8]],\n",
       " \n",
       "        [[127,  98,  61],\n",
       "         [126,  97,  59],\n",
       "         [124,  95,  57],\n",
       "         ...,\n",
       "         [ 58,  27,   6],\n",
       "         [ 59,  28,   7],\n",
       "         [ 59,  28,   7]]], dtype=uint8))"
      ]
     },
     "execution_count": 18,
     "metadata": {},
     "output_type": "execute_result"
    }
   ],
   "source": [
    "findhand"
   ]
  },
  {
   "cell_type": "code",
   "execution_count": 19,
   "metadata": {},
   "outputs": [],
   "source": [
    "hand_lm = findhand[0][0]"
   ]
  },
  {
   "cell_type": "code",
   "execution_count": 28,
   "metadata": {},
   "outputs": [
    {
     "data": {
      "text/plain": [
       "'Right'"
      ]
     },
     "execution_count": 28,
     "metadata": {},
     "output_type": "execute_result"
    }
   ],
   "source": [
    "hand_lm['type']"
   ]
  },
  {
   "cell_type": "code",
   "execution_count": 31,
   "metadata": {},
   "outputs": [],
   "source": [
    "fingers = detector.fingersUp(hand_lm)"
   ]
  },
  {
   "cell_type": "code",
   "execution_count": 32,
   "metadata": {},
   "outputs": [
    {
     "data": {
      "text/plain": [
       "[]"
      ]
     },
     "execution_count": 32,
     "metadata": {},
     "output_type": "execute_result"
    }
   ],
   "source": [
    "fingers"
   ]
  },
  {
   "cell_type": "code",
   "execution_count": 4,
   "metadata": {},
   "outputs": [],
   "source": [
    "def findhand(photo = None):\n",
    "        hands = {}\n",
    "        findhand = detector.findHands(photo)\n",
    "        if len(findhand[0]) == 2:\n",
    "            hands[findhand[0][0]['type']] = detector.fingersUp(findhand[0][0])\n",
    "            hands[findhand[0][1]['type']] = detector.fingersUp(findhand[0][1])    \n",
    "            return hands        \n",
    "        elif len(findhand[0]) == 1:\n",
    "            hands[findhand[0][0]['type']] = detector.fingersUp(findhand[0][0])\n",
    "            return hands\n",
    "        else:\n",
    "            return hands"
   ]
  },
  {
   "cell_type": "code",
   "execution_count": null,
   "metadata": {},
   "outputs": [],
   "source": [
    "cap = cv2.VideoCapture(0)\n",
    "detector = HandDetector()\n",
    "\n",
    "while True:\n",
    "    status, photo = cap.read()\n",
    "    if status:\n",
    "        hands = findhand(photo)\n",
    "        cv2.imshow('hi', photo)\n",
    "        for i in hands.keys():\n",
    "            print(i, \"--> \", hands[i])\n",
    "        print(\"\\n\\n\")\n",
    "       \n",
    "    if cv2.waitKey(100) == 13:\n",
    "        break\n",
    "\n",
    "\n",
    "cv2.destroyAllWindows()\n",
    "cap.release()"
   ]
  },
  {
   "cell_type": "code",
   "execution_count": 58,
   "metadata": {},
   "outputs": [
    {
     "data": {
      "text/plain": [
       "'Left'"
      ]
     },
     "execution_count": 58,
     "metadata": {},
     "output_type": "execute_result"
    }
   ],
   "source": [
    "findhand[0][1]['type']"
   ]
  },
  {
   "cell_type": "code",
   "execution_count": 45,
   "metadata": {},
   "outputs": [
    {
     "data": {
      "text/plain": [
       "2"
      ]
     },
     "execution_count": 45,
     "metadata": {},
     "output_type": "execute_result"
    }
   ],
   "source": [
    "len(findhand[0])"
   ]
  },
  {
   "cell_type": "code",
   "execution_count": 59,
   "metadata": {},
   "outputs": [],
   "source": [
    "hand= {}"
   ]
  },
  {
   "cell_type": "code",
   "execution_count": 60,
   "metadata": {},
   "outputs": [
    {
     "data": {
      "text/plain": [
       "dict"
      ]
     },
     "execution_count": 60,
     "metadata": {},
     "output_type": "execute_result"
    }
   ],
   "source": [
    "type(hand)"
   ]
  },
  {
   "cell_type": "code",
   "execution_count": null,
   "metadata": {},
   "outputs": [],
   "source": []
  }
 ],
 "metadata": {
  "kernelspec": {
   "display_name": "Python 3",
   "language": "python",
   "name": "python3"
  },
  "language_info": {
   "codemirror_mode": {
    "name": "ipython",
    "version": 3
   },
   "file_extension": ".py",
   "mimetype": "text/x-python",
   "name": "python",
   "nbconvert_exporter": "python",
   "pygments_lexer": "ipython3",
   "version": "3.12.3"
  }
 },
 "nbformat": 4,
 "nbformat_minor": 2
}
