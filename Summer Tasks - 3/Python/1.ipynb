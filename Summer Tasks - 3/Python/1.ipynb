{
 "cells": [
  {
   "cell_type": "markdown",
   "metadata": {},
   "source": [
    "# Task - June 13, 2024"
   ]
  },
  {
   "cell_type": "markdown",
   "metadata": {},
   "source": [
    "1. Create a number guessing game where user has to choose a number range and guess the number"
   ]
  },
  {
   "cell_type": "code",
   "execution_count": 5,
   "metadata": {},
   "outputs": [
    {
     "name": "stdout",
     "output_type": "stream",
     "text": [
      "Welome to number guessing game\n",
      "! - - Retry - - !\n",
      "Actual number is:  3\n"
     ]
    }
   ],
   "source": [
    "import numpy as np\n",
    "\n",
    "print(\"Welome to number guessing game\")\n",
    "\n",
    "lower = int(input(\"Enter the Starting range limit: \"))\n",
    "upper = int(input(\"Enter the Ending range limit: \"))\n",
    "\n",
    "number = np.random.randint(lower, upper)\n",
    "\n",
    "guess = int(input(\"Now, guess the number within the range: \"))\n",
    "\n",
    "if guess == number:\n",
    "    print(\"Awesome! You guessed the number right\")\n",
    "else:\n",
    "    print(\"! - - Retry - - !\")\n",
    "    print(\"Actual number is: \", number)"
   ]
  },
  {
   "cell_type": "markdown",
   "metadata": {},
   "source": [
    "2. Create a TO-DO list."
   ]
  },
  {
   "cell_type": "code",
   "execution_count": null,
   "metadata": {},
   "outputs": [],
   "source": [
    "import pandas as pd\n",
    "\n",
    "data = pd.read_csv('task_list.csv')\n",
    "\n",
    "def remove_task(task):\n",
    "    if task in data['task'].values:\n",
    "        data.drop(data[data['task'] == task].index, inplace=True)\n",
    "        data.reset_index(drop=True, inplace=True)\n",
    "    else:\n",
    "        print(f\"Task '{task}' not found in the list.\")\n",
    "\n",
    "\n",
    "def add_task(task):\n",
    "    new_task = pd.DataFrame({'task': [task], 'status': ['Incomplete']})\n",
    "    global data\n",
    "    data = pd.concat([data, new_task], ignore_index=True)\n",
    "\n",
    "\n",
    "def mark_as_done(task):\n",
    "    if task in data['task'].values:\n",
    "        data.loc[data['task'] == task, 'status'] = 'Complete'\n",
    "    else:\n",
    "        print(f\"Task '{task}' not found in the list.\")\n",
    "\n",
    "\n",
    "while True:\n",
    "    print('Choose what you want to do in your to-do list: ')\n",
    "    print(\"Press - 1: Add task to list\")\n",
    "    print(\"Press - 2: Mark as complete in the list\")\n",
    "    print(\"Press - 3: Remove task from list\")\n",
    "    print(\"Press - 4: View Status of To-do list\")\n",
    "    print(\"Press - 5: To exit the program\")\n",
    "    \n",
    "    operation = int(input(\"Choose what to do: \"))\n",
    "\n",
    "    if operation == 1:\n",
    "        add_task(task=input(\"Enter the task name: \"))\n",
    "    elif operation == 2:\n",
    "        mark_as_done(task=input(\"Enter the task name to mark as complete: \"))\n",
    "    elif operation == 3:\n",
    "        remove_task(task=input(\"Enter the task name to remove: \"))\n",
    "    elif operation == 4:\n",
    "        print(data)\n",
    "    elif operation == 5:\n",
    "        data.to_csv(\"task_list.csv\", index=False)\n",
    "        break\n",
    "    else:\n",
    "        print(\"Invalid input. Please select a valid option.\")\n"
   ]
  },
  {
   "cell_type": "markdown",
   "metadata": {},
   "source": [
    "3. Count the number of words in the paragraph."
   ]
  },
  {
   "cell_type": "code",
   "execution_count": 8,
   "metadata": {},
   "outputs": [
    {
     "name": "stdout",
     "output_type": "stream",
     "text": [
      "Total number of words in paragraph:  5\n"
     ]
    }
   ],
   "source": [
    "para = input(\"Enter the paragraph to count words: \")\n",
    "\n",
    "number = para.split(\" \")\n",
    "\n",
    "print(\"Total number of words in paragraph: \", len(number))"
   ]
  },
  {
   "cell_type": "markdown",
   "metadata": {},
   "source": [
    "4. Temperature Conversion"
   ]
  },
  {
   "cell_type": "code",
   "execution_count": null,
   "metadata": {},
   "outputs": [],
   "source": [
    "# Function to convert Kelvin to Celsius and Fahrenheit\n",
    "def kelvin_to_others(temp):\n",
    "    celsius = temp - 273.15\n",
    "    fahrenheit = (temp - 273.15) * 9/5 + 32\n",
    "    return celsius, fahrenheit\n",
    "\n",
    "# Function to convert Celsius to Kelvin and Fahrenheit\n",
    "def celsius_to_others(temp):\n",
    "    kelvin = temp + 273.15\n",
    "    fahrenheit = (temp * 9/5) + 32\n",
    "    return kelvin, fahrenheit\n",
    "\n",
    "# Function to convert Fahrenheit to Celsius and Kelvin\n",
    "def fahrenheit_to_others(temp):\n",
    "    celsius = (temp - 32) * 5/9\n",
    "    kelvin = (temp - 32) * 5/9 + 273.15\n",
    "    return celsius, kelvin\n",
    "\n",
    "# Input temperature to convert\n",
    "temp = float(input(\"Enter the temperature to convert: \"))\n",
    "\n",
    "# Choose temperature type\n",
    "print(\"Which temperature type you have written: \")\n",
    "print(\"Press - 1 for Kelvin\")\n",
    "print(\"Press - 2 for Celsius\")\n",
    "print(\"Press - 3 for Fahrenheit\")\n",
    "tp = input(\"Enter the temperature type: \")\n",
    "\n",
    "# Perform conversion based on the chosen temperature type\n",
    "if tp == '1':\n",
    "    celsius, fahrenheit = kelvin_to_others(temp)\n",
    "    print(f\"{temp} Kelvin is {celsius:.2f} Celsius and {fahrenheit:.2f} Fahrenheit\")\n",
    "elif tp == '2':\n",
    "    kelvin, fahrenheit = celsius_to_others(temp)\n",
    "    print(f\"{temp} Celsius is {kelvin:.2f} Kelvin and {fahrenheit:.2f} Fahrenheit\")\n",
    "elif tp == '3':\n",
    "    celsius, kelvin = fahrenheit_to_others(temp)\n",
    "    print(f\"{temp} Fahrenheit is {celsius:.2f} Celsius and {kelvin:.2f} Kelvin\")\n",
    "else:\n",
    "    print(\"Invalid input. Please enter 1, 2, or 3.\")\n"
   ]
  }
 ],
 "metadata": {
  "kernelspec": {
   "display_name": "Python 3",
   "language": "python",
   "name": "python3"
  },
  "language_info": {
   "codemirror_mode": {
    "name": "ipython",
    "version": 3
   },
   "file_extension": ".py",
   "mimetype": "text/x-python",
   "name": "python",
   "nbconvert_exporter": "python",
   "pygments_lexer": "ipython3",
   "version": "3.12.3"
  }
 },
 "nbformat": 4,
 "nbformat_minor": 2
}
